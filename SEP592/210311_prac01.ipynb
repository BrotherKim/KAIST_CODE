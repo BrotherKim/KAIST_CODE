{
  "nbformat": 4,
  "nbformat_minor": 0,
  "metadata": {
    "colab": {
      "name": "210311_prac01.ipynb.html",
      "provenance": [],
      "collapsed_sections": [],
      "include_colab_link": true
    },
    "kernelspec": {
      "name": "python3",
      "display_name": "Python 3"
    }
  },
  "cells": [
    {
      "cell_type": "markdown",
      "metadata": {
        "id": "view-in-github",
        "colab_type": "text"
      },
      "source": [
        "<a href=\"https://colab.research.google.com/github/BrotherKim/Colab/blob/main/SEP592/210311_prac01.ipynb\" target=\"_parent\"><img src=\"https://colab.research.google.com/assets/colab-badge.svg\" alt=\"Open In Colab\"/></a>"
      ]
    },
    {
      "cell_type": "markdown",
      "metadata": {
        "id": "i33z4PFj7SPF"
      },
      "source": [
        "\\[SEP592\\] 소프트웨어 특강 <데이터사이언스 입문>\n",
        "# 2주차 실습 파트\n",
        "\n",
        "> 강의일: 2021.03.11.\n",
        "\n",
        "👤 실습담당자: 임채균 (KAIST 전산학부) &nbsp;&nbsp; | &nbsp;&nbsp; 📧 Email: rayote@kaist.ac.kr\n",
        "\n",
        "---\n",
        "<br />\n",
        "\n",
        "#### &nbsp;&nbsp; *실습 목표*\n",
        "\n",
        "*   공통 개발환경을 사용하기 위하여 <u>Google Colab의 기본적인 사용법</u>을 학습함.\n",
        "*   <u>Tensorflow 기반의 keras 를 이용</u>하여 데이터를 표현하고 모델을 만드는 방법을 학습함.\n",
        "\n",
        "\n",
        "\n",
        "<br />\n",
        "\n",
        "#### &nbsp;&nbsp; *References*\n",
        "\n",
        "*   공식 홈페이지 - Google Colab 튜토리얼 <small>https://colab.research.google.com/notebooks/welcome.ipynb?hl=ko</small>\n",
        "*   공식 홈페이지 - TensorFlow 가이드 <small>https://www.tensorflow.org/tutorials?hl=ko</small>\n",
        "*   김태영, “블록과 함께 하는 파이썬 딥러닝 케라스,” 디지털\n",
        "북스, 2017.\n",
        "  * 김태영의 케라스 블로그 <small>https://tykimos.github.io/lecture/</small>\n",
        "\n",
        "<br />\n",
        "\n",
        "---"
      ]
    },
    {
      "cell_type": "markdown",
      "metadata": {
        "id": "wlno0HU5F5Rb"
      },
      "source": [
        "## **1. Google Colab의 기본적인 사용**"
      ]
    },
    {
      "cell_type": "markdown",
      "metadata": {
        "id": "5fCEDCU_qrC0"
      },
      "source": [
        "<p><img alt=\"Colaboratory logo\" height=\"45px\" src=\"/img/colab_favicon.ico\" align=\"left\" hspace=\"10px\" vspace=\"0px\"></p>\n",
        "\n",
        "<h1>Colaboratory란?</h1>\n",
        "\n",
        "줄여서 'Colab'이라고도 하는 Colaboratory를 사용하면 브라우저에서 Python을 작성하고 실행할 수 있습니다. Colab은 다음과 같은 이점을 자랑합니다.\n",
        "- 구성이 필요하지 않음\n",
        "- GPU 무료 액세스\n",
        "- 간편한 공유\n",
        "\n",
        "<strong>학생</strong>이든, <strong>데이터 과학자</strong>든, <strong>AI 연구원</strong>이든 Colab으로 업무를 더욱 간편하게 처리할 수 있습니다. <a href=\"https://www.youtube.com/watch?v=inN8seMm7UI\">Colab 소개 영상</a>에서 자세한 내용을 확인하거나 아래에서 시작해 보세요."
      ]
    },
    {
      "cell_type": "markdown",
      "metadata": {
        "id": "GJBs_flRovLc"
      },
      "source": [
        "### <strong>시작하기</strong>\n",
        "\n",
        "지금 읽고 계신 문서는 정적 웹페이지가 아니라 코드를 작성하고 실행할 수 있는 대화형 환경인 <strong>Colab 메모장</strong>입니다.\n",
        "\n",
        "예를 들어 다음은 값을 계산하여 변수로 저장하고 결과를 출력하는 간단한 Python 스크립트가 포함된 <strong>코드 셀</strong>입니다."
      ]
    },
    {
      "cell_type": "code",
      "metadata": {
        "id": "gJr_9dXGpJ05",
        "colab": {
          "base_uri": "https://localhost:8080/"
        },
        "outputId": "d9eaae19-2115-47a7-c048-2d4d331056bc"
      },
      "source": [
        "seconds_in_a_day = 24 * 60 * 60\n",
        "seconds_in_a_day"
      ],
      "execution_count": null,
      "outputs": [
        {
          "output_type": "execute_result",
          "data": {
            "text/plain": [
              "86400"
            ]
          },
          "metadata": {
            "tags": []
          },
          "execution_count": 1
        }
      ]
    },
    {
      "cell_type": "markdown",
      "metadata": {
        "id": "2fhs6GZ4qFMx"
      },
      "source": [
        "위 셀의 코드를 실행하려면 셀을 클릭하여 선택한 후 코드 왼쪽의 실행 버튼을 누르거나 단축키 'Command/Ctrl+Enter'를 사용하세요. 셀을 클릭하면 코드 수정을 바로 시작할 수 있습니다.\n",
        "\n",
        "특정 셀에서 정의한 변수를 나중에 다른 셀에서 사용할 수 있습니다."
      ]
    },
    {
      "cell_type": "code",
      "metadata": {
        "id": "-gE-Ez1qtyIA",
        "colab": {
          "base_uri": "https://localhost:8080/"
        },
        "outputId": "1ba0ef28-f535-49ff-c61f-d51404c2ebea"
      },
      "source": [
        "seconds_in_a_week = 7 * seconds_in_a_day\n",
        "seconds_in_a_week"
      ],
      "execution_count": null,
      "outputs": [
        {
          "output_type": "execute_result",
          "data": {
            "text/plain": [
              "604800"
            ]
          },
          "metadata": {
            "tags": []
          },
          "execution_count": 4
        }
      ]
    },
    {
      "cell_type": "markdown",
      "metadata": {
        "id": "lSrWNr3MuFUS"
      },
      "source": [
        "Colab 메모장을 사용하면 <strong>실행 코드</strong>와 <strong>서식 있는 텍스트</strong>를 <strong>이미지</strong>, <strong>HTML</strong>, <strong>LaTeX</strong> 등과 함께 하나의 문서로 통합할 수 있습니다. Colab 메모장을 만들면 Google Drive 계정에 저장됩니다. Colab 메모장을 간편하게 공유하여 동료나 친구들이 댓글을 달거나 수정하도록 할 수 있습니다. 자세히 알아보려면 <a href=\"/notebooks/basic_features_overview.ipynb\">Colab 개요</a>를 참조하세요. 새 Colab 메모장을 만들려면 위의 파일 메뉴를 사용하거나 다음 링크로 이동하세요. <a href=\"http://colab.research.google.com#create=true\">새 Colab 메모장 만들기</a>\n",
        "\n",
        "Colab 메모장은 Colab에서 호스팅하는 Jupyter 메모장입니다. Jupyter 프로젝트에 관해 자세히 알아보려면 <a href=\"https://www.jupyter.org\">jupyter.org</a>를 참조하세요."
      ]
    },
    {
      "cell_type": "markdown",
      "metadata": {
        "id": "UdRyKR44dcNI"
      },
      "source": [
        "### 데이터 과학\n",
        "\n",
        "Colab을 통해 인기 있는 Python 라이브러리를 최대한 활용하여 데이터를 분석하고 시각화할 수 있습니다. 아래 코드 셀에서는 <strong>Numpy</strong>를 사용하여 임의의 데이터를 생성하고 <strong>매트플롯립</strong>으로 이를 시각화합니다. 셀을 클릭하면 코드 수정을 바로 시작할 수 있습니다."
      ]
    },
    {
      "cell_type": "code",
      "metadata": {
        "id": "C4HZx7Gndbrh",
        "colab": {
          "base_uri": "https://localhost:8080/",
          "height": 296
        },
        "outputId": "9fa003d1-c1e4-4a16-f368-ad5da2ad6323"
      },
      "source": [
        "import numpy as np\n",
        "from matplotlib import pyplot as plt\n",
        "\n",
        "ys = 200 + np.random.randn(100)\n",
        "x = [x for x in range(len(ys))]\n",
        "\n",
        "plt.plot(x, ys, '-')\n",
        "plt.fill_between(x, ys, 195, where=(ys > 195), facecolor='g', alpha=0.6)\n",
        "\n",
        "plt.title(\"Sample Visualization\")\n",
        "plt.show()"
      ],
      "execution_count": null,
      "outputs": [
        {
          "output_type": "display_data",
          "data": {
            "image/png": "[encoded data removed]",
            "text/plain": [
              "<Figure size 432x288 with 1 Axes>"
            ]
          },
          "metadata": {
            "tags": [],
            "needs_background": "light"
          }
        },
        {
          "output_type": "stream",
          "text": [
            "time: 161 ms (started: 2021-03-11 05:38:54 +00:00)\n"
          ],
          "name": "stdout"
        }
      ]
    },
    {
      "cell_type": "markdown",
      "metadata": {
        "id": "4_kCnsPUqS6o"
      },
      "source": [
        "Google Drive 계정에서 스프레드시트를 비롯한 데이터를 Colab 메모장으로 가져오거나 GitHub 등의 여러 다른 소스에서 데이터를 가져올 수 있습니다. Colab을 데이터 과학에 활용하는 방법과 데이터 가져오기에 관해 자세히 알아보려면 <a href=\"#working-with-data\">데이터 사용하기</a> 아래 링크를 참조하세요."
      ]
    },
    {
      "cell_type": "markdown",
      "metadata": {
        "id": "OwuxHmxllTwN"
      },
      "source": [
        "### 머신러닝\n",
        "\n",
        "Colab을 사용하면 <a href=\"https://colab.research.google.com/github/tensorflow/docs/blob/master/site/en/tutorials/quickstart/beginner.ipynb\">코드 몇 줄</a>만으로 이미지 데이터세트를 가져오고, 이 데이터세트로 이미지 분류기를 학습시키며, 모델을 평가할 수 있습니다. Colab 메모장은 Google 클라우드 서버에서 코드를 실행하므로 사용 중인 컴퓨터의 성능과 관계없이 <a href=\"#using-accelerated-hardware\">GPU 및 TPU</a>를 포함한 Google 하드웨어의 성능을 활용할 수 있습니다. 브라우저만 있으면 사용 가능합니다."
      ]
    },
    {
      "cell_type": "markdown",
      "metadata": {
        "id": "ufxBm1yRnruN"
      },
      "source": [
        "Colab은 다음과 같은 분야의 머신러닝 커뮤니티에서 널리 쓰이고 있습니다.\n",
        "- TensorFlow 시작하기\n",
        "- 신경망 개발 및 학습시키기\n",
        "- TPU로 실험하기\n",
        "- AI 연구 보급하기\n",
        "- 튜토리얼 만들기\n",
        "\n",
        "머신러닝 적용 사례를 보여 주는 Colab 메모장 샘플을 확인하려면 아래 <a href=\"#machine-learning-examples\">머신러닝 예시</a>를 참조하세요."
      ]
    },
    {
      "cell_type": "markdown",
      "metadata": {
        "id": "6T6_BY7YG6eI"
      },
      "source": [
        "## (참고) **Colab 활용 팁**"
      ]
    },
    {
      "cell_type": "markdown",
      "metadata": {
        "id": "hn4FtXzo5mWr"
      },
      "source": [
        "##### *(참고)* 각각의 코드 셀의 실행시간을 자동으로 측정해주는 모듈을 설치함."
      ]
    },
    {
      "cell_type": "code",
      "metadata": {
        "id": "erZUrJ0O5AyO",
        "colab": {
          "base_uri": "https://localhost:8080/"
        },
        "outputId": "7dcac12f-3ee6-4450-cab7-e1639868226b"
      },
      "source": [
        "# 각 코드 셀의 실행시간 측정 모듈\n",
        "!pip install ipython-autotime\n",
        "\n",
        "%load_ext autotime"
      ],
      "execution_count": null,
      "outputs": [
        {
          "output_type": "stream",
          "text": [
            "Collecting ipython-autotime\n",
            "  Downloading https://files.pythonhosted.org/packages/b4/c9/b413a24f759641bc27ef98c144b590023c8038dfb8a3f09e713e9dff12c1/ipython_autotime-0.3.1-py2.py3-none-any.whl\n",
            "Requirement already satisfied: ipython in /usr/local/lib/python3.7/dist-packages (from ipython-autotime) (5.5.0)\n",
            "Requirement already satisfied: traitlets>=4.2 in /usr/local/lib/python3.7/dist-packages (from ipython->ipython-autotime) (5.0.5)\n",
            "Requirement already satisfied: pexpect; sys_platform != \"win32\" in /usr/local/lib/python3.7/dist-packages (from ipython->ipython-autotime) (4.8.0)\n",
            "Requirement already satisfied: pickleshare in /usr/local/lib/python3.7/dist-packages (from ipython->ipython-autotime) (0.7.5)\n",
            "Requirement already satisfied: pygments in /usr/local/lib/python3.7/dist-packages (from ipython->ipython-autotime) (2.6.1)\n",
            "Requirement already satisfied: decorator in /usr/local/lib/python3.7/dist-packages (from ipython->ipython-autotime) (4.4.2)\n",
            "Requirement already satisfied: prompt-toolkit<2.0.0,>=1.0.4 in /usr/local/lib/python3.7/dist-packages (from ipython->ipython-autotime) (1.0.18)\n",
            "Requirement already satisfied: simplegeneric>0.8 in /usr/local/lib/python3.7/dist-packages (from ipython->ipython-autotime) (0.8.1)\n",
            "Requirement already satisfied: setuptools>=18.5 in /usr/local/lib/python3.7/dist-packages (from ipython->ipython-autotime) (54.0.0)\n",
            "Requirement already satisfied: ipython-genutils in /usr/local/lib/python3.7/dist-packages (from traitlets>=4.2->ipython->ipython-autotime) (0.2.0)\n",
            "Requirement already satisfied: ptyprocess>=0.5 in /usr/local/lib/python3.7/dist-packages (from pexpect; sys_platform != \"win32\"->ipython->ipython-autotime) (0.7.0)\n",
            "Requirement already satisfied: wcwidth in /usr/local/lib/python3.7/dist-packages (from prompt-toolkit<2.0.0,>=1.0.4->ipython->ipython-autotime) (0.2.5)\n",
            "Requirement already satisfied: six>=1.9.0 in /usr/local/lib/python3.7/dist-packages (from prompt-toolkit<2.0.0,>=1.0.4->ipython->ipython-autotime) (1.15.0)\n",
            "Installing collected packages: ipython-autotime\n",
            "Successfully installed ipython-autotime-0.3.1\n",
            "time: 1.94 ms (started: 2021-03-13 07:25:58 +00:00)\n"
          ],
          "name": "stdout"
        }
      ]
    },
    {
      "cell_type": "markdown",
      "metadata": {
        "id": "JqSO1TgINCHi"
      },
      "source": [
        "#### **구글 드라이브의 로컬파일 업로드/다운로드**\n"
      ]
    },
    {
      "cell_type": "code",
      "metadata": {
        "id": "bzwqO275NFC6",
        "colab": {
          "resources": {
            "http://localhost:8080/nbextensions/google.colab/files.js": {
              "data": "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",
              "ok": true,
              "headers": [
                [
                  "content-type",
                  "application/javascript"
                ]
              ],
              "status": 200,
              "status_text": ""
            }
          },
          "base_uri": "https://localhost:8080/",
          "height": 52
        },
        "outputId": "e4ec7d1d-e2a2-47e9-a74a-381f8f5d471d"
      },
      "source": [
        "from google.colab import files\n",
        "files.upload()"
      ],
      "execution_count": null,
      "outputs": [
        {
          "output_type": "display_data",
          "data": {
            "text/html": [
              "\n",
              "     <input type=\"file\" id=\"files-c1dc060a-3cd2-47a1-aacc-995356775005\" name=\"files[]\" multiple disabled\n",
              "        style=\"border:none\" />\n",
              "     <output id=\"result-c1dc060a-3cd2-47a1-aacc-995356775005\">\n",
              "      Upload widget is only available when the cell has been executed in the\n",
              "      current browser session. Please rerun this cell to enable.\n",
              "      </output>\n",
              "      <script src=\"/nbextensions/google.colab/files.js\"></script> "
            ],
            "text/plain": [
              "<IPython.core.display.HTML object>"
            ]
          },
          "metadata": {
            "tags": []
          }
        },
        {
          "output_type": "execute_result",
          "data": {
            "text/plain": [
              "{}"
            ]
          },
          "metadata": {
            "tags": []
          },
          "execution_count": 8
        },
        {
          "output_type": "stream",
          "text": [
            "time: 8.07 s (started: 2021-03-11 05:40:22 +00:00)\n"
          ],
          "name": "stdout"
        }
      ]
    },
    {
      "cell_type": "code",
      "metadata": {
        "id": "lrlBfjAzVqMP"
      },
      "source": [
        "from google.colab import files\n",
        "files.download('img_list.txt')"
      ],
      "execution_count": null,
      "outputs": []
    },
    {
      "cell_type": "markdown",
      "metadata": {
        "id": "AhgY-CO9NF58"
      },
      "source": [
        "#### **Colab 세션 유지를 위한 JavaScript**\n",
        "\n",
        "Google Colab에서는 <u>약 30분 이상 작업이 없는 경우(idle)에는 세션을 종료</u>하기 때문에, 크롬 웹브라우저의 \"개발자 도구(DevTools)\"를 이용해서 주기적으로 클릭 이벤트를 트리거함으로써 세션을 유지함."
      ]
    },
    {
      "cell_type": "markdown",
      "metadata": {
        "id": "VX2DmTnXNnlz"
      },
      "source": [
        "1. 크롬 웹브라우저에서 F12 키를 입력하여 개발자 도구를 호출\n",
        "2. 개발자 도구 하단의 Console 탭에서, 트리거를 시작하기 위하여 다음 JavaScript를 입력\n",
        "```javascript\n",
        "function KeepClicking(){\n",
        "  console.log(\"Clicking:  \" + new Date().toString());\n",
        "  document.querySelector(\"colab-connect-button\").click();\n",
        "}\n",
        "var trigger = setInterval(KeepClicking, 60 * 1000);  // 변수는 정지시킬 때 사용\n",
        "```\n",
        "\n",
        "3. 만약 트리거를 정지하려면, 다음 JavaScript를 입력\n",
        "```javascript\n",
        "console.log(\"Stopped\");\n",
        "clearInterval(trigger);\n",
        "```"
      ]
    },
    {
      "cell_type": "markdown",
      "metadata": {
        "id": "S13IutSNUJdj"
      },
      "source": [
        "#### **학습 도중에 세션 종료(disconnection)되는 경우**\n",
        "\n",
        "* Google Colab에서는 <u>최대 12시간의 세션</u>을 지원하므로, 백그라운드 학습시간이 너무 길어지는 경우에는 종료될 수 있음.\n",
        "* 사용량 트래픽에 따라서 최대 시간에 도달하기 전에도 <u>간헐적으로 종료될 가능성</u>이 있음.\n",
        "  * Google의 FAQ 내용 발췌:\n",
        "  ```\n",
        "“Colaboratory is intended for interactive use. \n",
        "　Long-running background computations, particularly on GPUs, may be stopped.”\n",
        "  ```"
      ]
    },
    {
      "cell_type": "markdown",
      "metadata": {
        "id": "e2-fsGvARUxX"
      },
      "source": [
        "#### **구글 드라이브의 연동(mount)**\n",
        "\n",
        "매 세션마다 재인증 절차가 필요함.\n",
        "\n",
        "*   코드 실행 후 출력되는 URL 링크 접속 → 접근권한 허용 → 생성된 인증코드 복사하여 입력\n",
        "*   인증 과정 수행 (Google Cloud SDK, Google Drive File Stream)\n",
        "\n"
      ]
    },
    {
      "cell_type": "code",
      "metadata": {
        "id": "y47J_hp2Qx8-",
        "colab": {
          "base_uri": "https://localhost:8080/"
        },
        "outputId": "0619c5cd-e12b-49d3-c10f-81c4d39f2b39"
      },
      "source": [
        "# 만약 Google Cloud Storage를 사용할 경우\n",
        "#from google.colab import auth\n",
        "#auth.authenticate_user()\n",
        "\n",
        "# 개인 계정에서 Google Drive를 사용할 경우\n",
        "from google.colab import drive\n",
        "drive.mount('/content/gdrive')"
      ],
      "execution_count": null,
      "outputs": [
        {
          "output_type": "stream",
          "text": [
            "Mounted at /content/gdrive\n",
            "time: 24.7 s (started: 2021-03-11 05:46:36 +00:00)\n"
          ],
          "name": "stdout"
        }
      ]
    },
    {
      "cell_type": "code",
      "metadata": {
        "id": "dES27nAtTBDA",
        "colab": {
          "base_uri": "https://localhost:8080/"
        },
        "outputId": "0122b63d-d808-4aba-c838-ef8e1ce731b3"
      },
      "source": [
        "!cd \"gdrive/My Drive/Colab Notebooks/2021-1_SEP592_practice\"; ls -al;"
      ],
      "execution_count": null,
      "outputs": [
        {
          "output_type": "stream",
          "text": [
            "/bin/bash: line 0: cd: gdrive/My Drive/Colab Notebooks/2021-1_SEP592_practice: No such file or directory\n",
            "total 20\n",
            "drwxr-xr-x 1 root root 4096 Mar 11 05:47 .\n",
            "drwxr-xr-x 1 root root 4096 Mar 11 05:23 ..\n",
            "drwxr-xr-x 4 root root 4096 Mar  5 14:36 .config\n",
            "drwx------ 5 root root 4096 Mar 11 05:47 gdrive\n",
            "drwxr-xr-x 1 root root 4096 Mar  5 14:37 sample_data\n",
            "time: 121 ms (started: 2021-03-11 05:48:18 +00:00)\n"
          ],
          "name": "stdout"
        }
      ]
    },
    {
      "cell_type": "markdown",
      "metadata": {
        "id": "_fSF1SaMGAQg"
      },
      "source": [
        "## **2. Keras의 기본적인 사용**"
      ]
    },
    {
      "cell_type": "markdown",
      "metadata": {
        "id": "IXKEdCZFImuA"
      },
      "source": [
        "### **1) 데이터 다루기**"
      ]
    },
    {
      "cell_type": "markdown",
      "metadata": {
        "id": "oRQnSqhilL7C"
      },
      "source": [
        "##### **MNIST Data** \n",
        "\n",
        "Machine Learning 의 대표적인 데이터, 흑백 손글씨 숫자 이미지 \n",
        "MNIST 데이터는 keras에서 기본적으로 제공합니다.\n",
        "\n",
        "![MNIST Data Example](https://upload.wikimedia.org/wikipedia/commons/2/27/MnistExamples.png)"
      ]
    },
    {
      "cell_type": "code",
      "metadata": {
        "id": "zsZpmXCJggva",
        "colab": {
          "base_uri": "https://localhost:8080/"
        },
        "outputId": "cebe6efd-193d-44af-cec6-af4a91dccb5d"
      },
      "source": [
        "import keras # keras\n",
        "from keras.datasets import mnist\n",
        "\n",
        "(train_images, train_labels), (test_images, test_labels) = mnist.load_data()"
      ],
      "execution_count": null,
      "outputs": [
        {
          "output_type": "stream",
          "text": [
            "Downloading data from https://storage.googleapis.com/tensorflow/tf-keras-datasets/mnist.npz\n",
            "11493376/11490434 [==============================] - 0s 0us/step\n"
          ],
          "name": "stdout"
        }
      ]
    },
    {
      "cell_type": "markdown",
      "metadata": {
        "id": "VGKmd5mkl8V6"
      },
      "source": [
        "##### **학습 데이터**\n",
        "\n",
        "학습 데이터는 tensor (3차원 이상의 배열)로 표현됩니다. \n",
        "\n",
        "MNIST 데이터의 학습 데이터는 28 x 28 픽셀 사이즈의 이미지이며, 학습에 사용할 이미지의 개수는 60,000 개 입니다. \n",
        "\n",
        "학습 데이터의 배열의 모양이 (60000, 28, 28) 의 tuple 의 형태로 표현된다는 것에 주목해 주십시오."
      ]
    },
    {
      "cell_type": "code",
      "metadata": {
        "id": "QJD2Vf8OlK2i",
        "colab": {
          "base_uri": "https://localhost:8080/"
        },
        "outputId": "6434fa18-1852-48e5-ef5e-b43c205bad60"
      },
      "source": [
        "# 학습 데이터의 표현 형식 출력 \n",
        "train_images.shape"
      ],
      "execution_count": null,
      "outputs": [
        {
          "output_type": "execute_result",
          "data": {
            "text/plain": [
              "(60000, 28, 28)"
            ]
          },
          "metadata": {
            "tags": []
          },
          "execution_count": 12
        },
        {
          "output_type": "stream",
          "text": [
            "time: 3.71 ms (started: 2021-03-11 05:53:14 +00:00)\n"
          ],
          "name": "stdout"
        }
      ]
    },
    {
      "cell_type": "markdown",
      "metadata": {
        "id": "1QyShQ4AnSrY"
      },
      "source": [
        "학습 데이터의 label (정답) 데이터의 개수를 출력해 봤습니다. \n",
        "\n",
        "당연하게도 학습데이터의 숫자와 일치합니다. (60000)"
      ]
    },
    {
      "cell_type": "code",
      "metadata": {
        "id": "4iepez2-mFQF",
        "colab": {
          "base_uri": "https://localhost:8080/"
        },
        "outputId": "ba30f548-357c-44f2-e6ab-a08d206d22d3"
      },
      "source": [
        "len(train_labels)"
      ],
      "execution_count": null,
      "outputs": [
        {
          "output_type": "execute_result",
          "data": {
            "text/plain": [
              "60000"
            ]
          },
          "metadata": {
            "tags": []
          },
          "execution_count": 13
        },
        {
          "output_type": "stream",
          "text": [
            "time: 4.2 ms (started: 2021-03-11 05:53:41 +00:00)\n"
          ],
          "name": "stdout"
        }
      ]
    },
    {
      "cell_type": "markdown",
      "metadata": {
        "id": "M0aR-cg0opW7"
      },
      "source": [
        "학습 데이터의 label(정답)을 출력해 보았습니다. \n",
        "\n",
        "5, 0, 4 등의 정답이 1차원 배열로 표현된 것을 보실 수 있습니다."
      ]
    },
    {
      "cell_type": "code",
      "metadata": {
        "id": "CH2IHHh9olYC",
        "colab": {
          "base_uri": "https://localhost:8080/"
        },
        "outputId": "8eb31eb3-1054-4705-ac42-e45b29635a6e"
      },
      "source": [
        "train_labels"
      ],
      "execution_count": null,
      "outputs": [
        {
          "output_type": "execute_result",
          "data": {
            "text/plain": [
              "array([5, 0, 4, ..., 5, 6, 8], dtype=uint8)"
            ]
          },
          "metadata": {
            "tags": []
          },
          "execution_count": 14
        },
        {
          "output_type": "stream",
          "text": [
            "time: 5.41 ms (started: 2021-03-11 05:53:57 +00:00)\n"
          ],
          "name": "stdout"
        }
      ]
    },
    {
      "cell_type": "markdown",
      "metadata": {
        "id": "ledUlWWpp0FR"
      },
      "source": [
        "##### **테스트 데이터**\n",
        "\n",
        "같은 방법으로 테스트 데이터가 어떻게 표현되고 있는지 확인해 보았습니다. \n",
        "\n",
        "학습 데이터와 동일하게 28 x 28 픽셀 사이즈로 표현되고 있으며, 그 개수가 10000개 인 것을 확인할 수 있습니다. "
      ]
    },
    {
      "cell_type": "code",
      "metadata": {
        "id": "9DSIIE8eo7AV",
        "colab": {
          "base_uri": "https://localhost:8080/"
        },
        "outputId": "b7eb2a97-39c6-489c-a96c-9f6f03fd8b32"
      },
      "source": [
        "print (test_images.shape)\n",
        "print (len(test_labels))\n",
        "print (test_labels)"
      ],
      "execution_count": null,
      "outputs": [
        {
          "output_type": "stream",
          "text": [
            "(10000, 28, 28)\n",
            "10000\n",
            "[7 2 1 ... 4 5 6]\n",
            "time: 1.93 ms (started: 2021-03-11 05:54:46 +00:00)\n"
          ],
          "name": "stdout"
        }
      ]
    },
    {
      "cell_type": "markdown",
      "metadata": {
        "id": "KTEEocYzrhFd"
      },
      "source": [
        "배열을 2차원 공간에 표현해주는 `matplotlib`을 이용하여, 학습 데이터를 실제로 표현해보았습니다. \n",
        "\n",
        "3번째 학습 데이터의 이미지와 label(정답)을 출력해 보았습니다. \n",
        "\n"
      ]
    },
    {
      "cell_type": "code",
      "metadata": {
        "id": "SFNh9dAnqUAo",
        "colab": {
          "base_uri": "https://localhost:8080/",
          "height": 295
        },
        "outputId": "e868172f-f791-47e4-be17-85adbb140518"
      },
      "source": [
        "import matplotlib.pyplot as plt\n",
        "\n",
        "# 데이터의 인덱스\n",
        "idx = 3\n",
        "\n",
        "digit = train_images[idx]\n",
        "\n",
        "plt.imshow(digit, cmap=plt.cm.binary)\n",
        "plt.show()\n",
        "\n",
        "print (\"label: {}\".format(train_labels[idx]))"
      ],
      "execution_count": null,
      "outputs": [
        {
          "output_type": "display_data",
          "data": {
            "image/png": "[encoded data removed]",
            "text/plain": [
              "<Figure size 432x288 with 1 Axes>"
            ]
          },
          "metadata": {
            "tags": [],
            "needs_background": "light"
          }
        },
        {
          "output_type": "stream",
          "text": [
            "label: 1\n",
            "time: 153 ms (started: 2021-03-11 05:55:06 +00:00)\n"
          ],
          "name": "stdout"
        }
      ]
    },
    {
      "cell_type": "markdown",
      "metadata": {
        "id": "yIJymjteK_nI"
      },
      "source": [
        "### **2) 간단한 모델 다루기**"
      ]
    },
    {
      "cell_type": "markdown",
      "metadata": {
        "id": "Zx_vKXMvxvkF"
      },
      "source": [
        "##### **모델 정의**\n",
        "\n",
        "MNIST 데이터를 분류(classification) 하기 위한 모델을 정의하여 보고, plot_model 함수를 통해 모델을 출력하여 보았습니다. \n",
        "\n",
        "첫 번째 레이어는 784 (28 * 28) 개의 입력 노드가 512개의 출력 노드로 연결된 Dense(fully connected) layer 이며, \n",
        "\n",
        "두 번째 레이어는 첫 번째 레이어의 출력 노드 512개를 정답 레이블 10개 노드(0-9)에 연결된 Dense layer 입니다. "
      ]
    },
    {
      "cell_type": "code",
      "metadata": {
        "id": "Mljw9U0-uO4L",
        "colab": {
          "base_uri": "https://localhost:8080/",
          "height": 327
        },
        "outputId": "5303dc8d-5e13-4e76-9c73-b8c94a5aa04b"
      },
      "source": [
        "from keras import models\n",
        "from keras import layers\n",
        "\n",
        "# 모델의 레이어 추가\n",
        "network = models.Sequential()\n",
        "network.add(layers.Dense(512, activation='relu', input_shape=(28 * 28,),name='Input_Layer'))\n",
        "network.add(layers.Dense(10, activation='softmax',name='Output_Layer'))\n",
        "\n",
        "from keras.utils import plot_model\n",
        "plot_model(network, show_shapes=True)"
      ],
      "execution_count": null,
      "outputs": [
        {
          "output_type": "execute_result",
          "data": {
            "image/png": "[encoded data removed]",
            "text/plain": [
              "<IPython.core.display.Image object>"
            ]
          },
          "metadata": {
            "tags": []
          },
          "execution_count": 17
        },
        {
          "output_type": "stream",
          "text": [
            "time: 642 ms (started: 2021-03-11 05:59:24 +00:00)\n"
          ],
          "name": "stdout"
        }
      ]
    },
    {
      "cell_type": "markdown",
      "metadata": {
        "id": "9WSsLumb2MxT"
      },
      "source": [
        "신경망을 학습시키기 위해, \n",
        "* optimizer \n",
        "* loss function \n",
        "* metric\n",
        "\n",
        "을 정의하였습니다 "
      ]
    },
    {
      "cell_type": "code",
      "metadata": {
        "id": "Tj6FeOds18Tc",
        "colab": {
          "base_uri": "https://localhost:8080/"
        },
        "outputId": "c3da03f2-d748-4cdb-f948-8ac32bef412c"
      },
      "source": [
        "network.compile(optimizer='rmsprop',\n",
        "                loss='categorical_crossentropy',\n",
        "                metrics=['accuracy'])"
      ],
      "execution_count": null,
      "outputs": [
        {
          "output_type": "stream",
          "text": [
            "time: 131 ms (started: 2021-03-11 06:01:21 +00:00)\n"
          ],
          "name": "stdout"
        }
      ]
    },
    {
      "cell_type": "markdown",
      "metadata": {
        "id": "6hVs_S1V_Sog"
      },
      "source": [
        "##### **모델 학습**\n",
        "앞에서 살펴본 것과 같이 우리의 훈련 이미지는 [0, 255] 사이의 값인 uint8 타입의 (60000, 28, 28) 크기를 가진 배열로 저장되어 있습니다.\n",
        "\n",
        "\n",
        "dense layer에 이미지 데이터를 입력하기 위하여 \n",
        "28 x 28 의 2차원 데이터를 28*28 길이를 갖는 1차원 데이터의 형태로 바꾸었습니다. \n",
        "\n",
        "\n",
        "그리고 값의 범위를 0과 1사이의 float32 형태로 수정하였습니다. \n",
        "\n",
        "\n",
        "마지막으로 학습데이터와 테스트 데이터의 레이블을 모델의 아웃풋 node에 적합하도록 범주형(categorical)으로 다시 표현하였습니다. "
      ]
    },
    {
      "cell_type": "code",
      "metadata": {
        "id": "rus5C4q32V8N",
        "colab": {
          "base_uri": "https://localhost:8080/"
        },
        "outputId": "887b9e65-c468-40a3-ba36-683ff1448077"
      },
      "source": [
        "# 학습 데이터의 표현 형태 변경 (2d array --> 1d array)\n",
        "input_train_images = train_images.reshape((60000, 28 * 28))\n",
        "# 학습 데이터의 값의 범주 변경 (0~255 --> 0~1)\n",
        "input_train_images = input_train_images.astype('float32') / 255\n",
        "\n",
        "input_test_images = test_images.reshape((10000, 28 * 28))\n",
        "input_test_images = input_test_images.astype('float32') / 255\n",
        "\n",
        "\n",
        "from keras.utils import to_categorical\n",
        "\n",
        "# 레이블을 범주형(one-hot)으로 변경 \n",
        "onehot_train_labels = to_categorical(train_labels)\n",
        "onehot_test_labels = to_categorical(test_labels)\n",
        "\n",
        "print (\"학습 데이터의 0번 레이블 출력:\", train_labels[0])\n",
        "print (\"학습 데이터의 0번 레이블을 범주형으로 출력:\",onehot_train_labels[0])"
      ],
      "execution_count": null,
      "outputs": [
        {
          "output_type": "stream",
          "text": [
            "학습 데이터의 0번 레이블 출력: 5\n",
            "학습 데이터의 0번 레이블을 범주형으로 출력: [0. 0. 0. 0. 0. 1. 0. 0. 0. 0.]\n",
            "time: 130 ms (started: 2021-03-11 06:06:10 +00:00)\n"
          ],
          "name": "stdout"
        }
      ]
    },
    {
      "cell_type": "code",
      "metadata": {
        "id": "Dg7kqrIECgTg",
        "colab": {
          "base_uri": "https://localhost:8080/"
        },
        "outputId": "e0e56ebb-b78f-42cb-c5a2-0adcae5bdd84"
      },
      "source": [
        "network.fit(input_train_images, \n",
        "            onehot_train_labels, \n",
        "            epochs=5, \n",
        "            batch_size=128)"
      ],
      "execution_count": null,
      "outputs": [
        {
          "output_type": "stream",
          "text": [
            "Epoch 1/5\n",
            "469/469 [==============================] - 5s 9ms/step - loss: 0.4150 - accuracy: 0.8795\n",
            "Epoch 2/5\n",
            "469/469 [==============================] - 4s 9ms/step - loss: 0.1107 - accuracy: 0.9674\n",
            "Epoch 3/5\n",
            "469/469 [==============================] - 4s 9ms/step - loss: 0.0666 - accuracy: 0.9796\n",
            "Epoch 4/5\n",
            "469/469 [==============================] - 4s 9ms/step - loss: 0.0508 - accuracy: 0.9850\n",
            "Epoch 5/5\n",
            "469/469 [==============================] - 4s 9ms/step - loss: 0.0358 - accuracy: 0.9894\n"
          ],
          "name": "stdout"
        },
        {
          "output_type": "execute_result",
          "data": {
            "text/plain": [
              "<tensorflow.python.keras.callbacks.History at 0x7fbdd3e77290>"
            ]
          },
          "metadata": {
            "tags": []
          },
          "execution_count": 20
        },
        {
          "output_type": "stream",
          "text": [
            "time: 21.1 s (started: 2021-03-11 06:07:30 +00:00)\n"
          ],
          "name": "stdout"
        }
      ]
    },
    {
      "cell_type": "markdown",
      "metadata": {
        "id": "xxCKRb4zCnUH"
      },
      "source": [
        "##### **모델 테스트**\n",
        "\n",
        "간단한 모델의 학습이 완료되었으니, 성능 테스트를 진행하여 보겠습니다. "
      ]
    },
    {
      "cell_type": "code",
      "metadata": {
        "id": "sp7zuYCCC0pv",
        "colab": {
          "base_uri": "https://localhost:8080/"
        },
        "outputId": "41aeef44-e959-4c91-bf1f-e00a795f3cfb"
      },
      "source": [
        "# 테스트셋 테스트 \n",
        "test_loss, test_acc = network.evaluate(input_test_images, onehot_test_labels)\n",
        "\n",
        "#테스트 결과 출력\n",
        "print('test_acc:', test_acc)"
      ],
      "execution_count": null,
      "outputs": [
        {
          "output_type": "stream",
          "text": [
            "313/313 [==============================] - 1s 2ms/step - loss: 0.0677 - accuracy: 0.9785\n",
            "test_acc: 0.9785000085830688\n",
            "time: 828 ms (started: 2021-03-11 06:08:30 +00:00)\n"
          ],
          "name": "stdout"
        }
      ]
    },
    {
      "cell_type": "markdown",
      "metadata": {
        "id": "rhpCorrKTQwA"
      },
      "source": [
        "### **3) 다른 모델도 다루기** (e.g., CNN)"
      ]
    },
    {
      "cell_type": "markdown",
      "metadata": {
        "collapsed": true,
        "id": "Yh_MaxYZMzq9"
      },
      "source": [
        "> 이 노트북은 [케라스 창시자에게 배우는 딥러닝](https://tensorflow.blog/%EC%BC%80%EB%9D%BC%EC%8A%A4-%EB%94%A5%EB%9F%AC%EB%8B%9D/) 책의 5장 1절의 코드 예제입니다. 책에는 더 많은 내용과 그림이 있습니다. 이 노트북에는 소스 코드에 관련된 설명만 포함합니다.\n",
        "\n",
        "\n",
        "컨브넷의 정의와 컨브넷이 컴퓨터 비전 관련 작업에 잘 맞는 이유에 대해 이론적 배경을 알아보겠습니다. 하지만 먼저 간단한 컨브넷 예제를 둘러 보죠. 2장에서 완전 연결 네트워크로 풀었던 MNIST 숫자 이미지 분류에 컨브넷을 사용해 보겠습니다. 기본적인 컨브넷이더라도 2장의 완전 연결된 모델의 성능을 훨씬 앞지를 것입니다.\n",
        "\n",
        "다음 코드는 기본적인 컨브넷의 모습입니다. `Conv2D`와 `MaxPooling2D` 층을 쌓아 올렸습니다. 잠시 후에 이들이 무엇인지 배우겠습니다.\n",
        "\n",
        "컨브넷이 `(image_height, image_width, image_channels)` 크기의 입력 텐서를 사용한다는 점이 중요합니다(배치 차원은 포함하지 않습니다). 이 예제에서는 MNIST 이미지 포맷인 `(28, 28, 1)` 크기의 입력을 처리하도록 컨브넷을 설정해야 합니다. 이 때문에 첫 번째 층의 매개변수로 `input_shape=(28, 28, 1)`을 전달합니다."
      ]
    },
    {
      "cell_type": "code",
      "metadata": {
        "id": "_IKE27jAMzq9",
        "colab": {
          "base_uri": "https://localhost:8080/"
        },
        "outputId": "95025093-cc95-455d-ec5c-846590a59f51"
      },
      "source": [
        "from keras import layers\n",
        "from keras import models\n",
        "\n",
        "model = models.Sequential()\n",
        "model.add(layers.Conv2D(32, (3, 3), activation='relu', input_shape=(28, 28, 1)))\n",
        "model.add(layers.MaxPooling2D((2, 2)))\n",
        "model.add(layers.Conv2D(64, (3, 3), activation='relu'))\n",
        "model.add(layers.MaxPooling2D((2, 2)))\n",
        "model.add(layers.Conv2D(64, (3, 3), activation='relu'))"
      ],
      "execution_count": null,
      "outputs": [
        {
          "output_type": "stream",
          "text": [
            "time: 62.3 ms (started: 2021-03-11 06:15:12 +00:00)\n"
          ],
          "name": "stdout"
        }
      ]
    },
    {
      "cell_type": "markdown",
      "metadata": {
        "id": "5x8n6C5PMzq-"
      },
      "source": [
        "지금까지 컨브넷 구조를 출력해 보죠:"
      ]
    },
    {
      "cell_type": "code",
      "metadata": {
        "id": "1P5m0uexMzq-",
        "colab": {
          "base_uri": "https://localhost:8080/"
        },
        "outputId": "ed342095-ce72-45f2-970f-3b6d27dbf0c6"
      },
      "source": [
        "model.summary()"
      ],
      "execution_count": null,
      "outputs": [
        {
          "output_type": "stream",
          "text": [
            "Model: \"sequential_1\"\n",
            "_________________________________________________________________\n",
            "Layer (type)                 Output Shape              Param #   \n",
            "=================================================================\n",
            "conv2d (Conv2D)              (None, 26, 26, 32)        320       \n",
            "_________________________________________________________________\n",
            "max_pooling2d (MaxPooling2D) (None, 13, 13, 32)        0         \n",
            "_________________________________________________________________\n",
            "conv2d_1 (Conv2D)            (None, 11, 11, 64)        18496     \n",
            "_________________________________________________________________\n",
            "max_pooling2d_1 (MaxPooling2 (None, 5, 5, 64)          0         \n",
            "_________________________________________________________________\n",
            "conv2d_2 (Conv2D)            (None, 3, 3, 64)          36928     \n",
            "=================================================================\n",
            "Total params: 55,744\n",
            "Trainable params: 55,744\n",
            "Non-trainable params: 0\n",
            "_________________________________________________________________\n",
            "time: 13.7 ms (started: 2021-03-11 06:15:14 +00:00)\n"
          ],
          "name": "stdout"
        }
      ]
    },
    {
      "cell_type": "markdown",
      "metadata": {
        "collapsed": true,
        "id": "rtMxGJL-Mzq-"
      },
      "source": [
        "`Conv2D`와 `MaxPooling2D` 층의 출력은 `(height, width, channels)` 크기의 3D 텐서입니다. 높이와 넓이 차원은 네트워크가 깊어질수록 작아지는 경향이 있습니다. 채널의 수는 `Conv2D` 층에 전달된 첫 번째 매개변수에 의해 조절됩니다(32개 또는 64개).\n",
        "\n",
        "다음 단계에서 마지막 층의 (`(3, 3, 64)` 크기인) 출력 텐서를 완전 연결 네트워크에 주입합니다. 이 네트워크는 이미 익숙하게 보았던 `Dense` 층을 쌓은 분류기입니다. 이 분류기는 1D 벡터를 처리하는데 이전 층의 출력이 3D 텐서입니다. 그래서 먼저 3D 출력을 1D 텐서로 펼쳐야 합니다. 그다음 몇 개의 `Dense` 층을 추가합니다:"
      ]
    },
    {
      "cell_type": "code",
      "metadata": {
        "id": "XVgQyEvMMzq_",
        "colab": {
          "base_uri": "https://localhost:8080/"
        },
        "outputId": "11ff2fc4-e027-473e-c65b-031262b2571a"
      },
      "source": [
        "model.add(layers.Flatten())\n",
        "model.add(layers.Dense(64, activation='relu'))\n",
        "model.add(layers.Dense(10, activation='softmax'))"
      ],
      "execution_count": null,
      "outputs": [
        {
          "output_type": "stream",
          "text": [
            "time: 35.2 ms (started: 2021-03-11 06:21:03 +00:00)\n"
          ],
          "name": "stdout"
        }
      ]
    },
    {
      "cell_type": "markdown",
      "metadata": {
        "id": "jLhA3N1NMzq_"
      },
      "source": [
        "10개의 클래스를 분류하기 위해 마지막 층의 출력 크기를 10으로 하고 소프트맥스 활성화 함수를 사용합니다. 이제 전체 네트워크는 다음과 같습니다:"
      ]
    },
    {
      "cell_type": "code",
      "metadata": {
        "id": "L8TiXns7Mzq_",
        "colab": {
          "base_uri": "https://localhost:8080/"
        },
        "outputId": "13c2656f-0f38-4e69-b2b9-6681735e404b"
      },
      "source": [
        "model.summary()"
      ],
      "execution_count": null,
      "outputs": [
        {
          "output_type": "stream",
          "text": [
            "Model: \"sequential_1\"\n",
            "_________________________________________________________________\n",
            "Layer (type)                 Output Shape              Param #   \n",
            "=================================================================\n",
            "conv2d (Conv2D)              (None, 26, 26, 32)        320       \n",
            "_________________________________________________________________\n",
            "max_pooling2d (MaxPooling2D) (None, 13, 13, 32)        0         \n",
            "_________________________________________________________________\n",
            "conv2d_1 (Conv2D)            (None, 11, 11, 64)        18496     \n",
            "_________________________________________________________________\n",
            "max_pooling2d_1 (MaxPooling2 (None, 5, 5, 64)          0         \n",
            "_________________________________________________________________\n",
            "conv2d_2 (Conv2D)            (None, 3, 3, 64)          36928     \n",
            "_________________________________________________________________\n",
            "flatten (Flatten)            (None, 576)               0         \n",
            "_________________________________________________________________\n",
            "dense (Dense)                (None, 64)                36928     \n",
            "_________________________________________________________________\n",
            "dense_1 (Dense)              (None, 10)                650       \n",
            "=================================================================\n",
            "Total params: 93,322\n",
            "Trainable params: 93,322\n",
            "Non-trainable params: 0\n",
            "_________________________________________________________________\n",
            "time: 7.82 ms (started: 2021-03-11 06:21:30 +00:00)\n"
          ],
          "name": "stdout"
        }
      ]
    },
    {
      "cell_type": "markdown",
      "metadata": {
        "id": "AlSDMT7oMzq_"
      },
      "source": [
        "여기에서 볼 수 있듯이 `(3, 3, 64)` 출력이 `(576,)` 크기의 벡터로 펼쳐진 후 `Dense` 층으로 주입되었습니다.\n",
        "\n",
        "이제 MNIST 숫자 이미지에 이 컨브넷을 훈련합니다. 2장의 MNIST 예제 코드를 많이 재사용하겠습니다."
      ]
    },
    {
      "cell_type": "code",
      "metadata": {
        "id": "p8DEChRIMzrA",
        "colab": {
          "base_uri": "https://localhost:8080/"
        },
        "outputId": "2a45b868-6b31-46b8-9949-5a766cda764b"
      },
      "source": [
        "from keras.datasets import mnist\n",
        "from keras.utils import to_categorical\n",
        "\n",
        "(train_images, train_labels), (test_images, test_labels) = mnist.load_data()\n",
        "\n",
        "input_train_images = train_images.reshape((60000, 28, 28, 1))\n",
        "input_train_images = input_train_images.astype('float32') / 255\n",
        "\n",
        "input_test_images = test_images.reshape((10000, 28, 28, 1))\n",
        "input_test_images = input_test_images.astype('float32') / 255\n",
        "\n",
        "train_labels = to_categorical(train_labels)\n",
        "test_labels = to_categorical(test_labels)"
      ],
      "execution_count": null,
      "outputs": [
        {
          "output_type": "stream",
          "text": [
            "time: 485 ms (started: 2021-03-11 06:22:00 +00:00)\n"
          ],
          "name": "stdout"
        }
      ]
    },
    {
      "cell_type": "code",
      "metadata": {
        "id": "jWy0Dx5yMzrA",
        "colab": {
          "base_uri": "https://localhost:8080/"
        },
        "outputId": "82e3e260-0452-4423-fe38-4d38751eef0a"
      },
      "source": [
        "model.compile(optimizer='rmsprop',\n",
        "              loss='categorical_crossentropy',\n",
        "              metrics=['accuracy'])\n",
        "model.fit(input_train_images, train_labels, epochs=5, batch_size=64)"
      ],
      "execution_count": null,
      "outputs": [
        {
          "output_type": "stream",
          "text": [
            "Epoch 1/5\n",
            "938/938 [==============================] - 45s 47ms/step - loss: 0.4047 - accuracy: 0.8684\n",
            "Epoch 2/5\n",
            "938/938 [==============================] - 45s 48ms/step - loss: 0.0513 - accuracy: 0.9838\n",
            "Epoch 3/5\n",
            "938/938 [==============================] - 44s 47ms/step - loss: 0.0333 - accuracy: 0.9899\n",
            "Epoch 4/5\n",
            "938/938 [==============================] - 44s 47ms/step - loss: 0.0257 - accuracy: 0.9919\n",
            "Epoch 5/5\n",
            "938/938 [==============================] - 44s 47ms/step - loss: 0.0183 - accuracy: 0.9943\n"
          ],
          "name": "stdout"
        },
        {
          "output_type": "execute_result",
          "data": {
            "text/plain": [
              "<tensorflow.python.keras.callbacks.History at 0x7fbdd15c9b10>"
            ]
          },
          "metadata": {
            "tags": []
          },
          "execution_count": 27
        },
        {
          "output_type": "stream",
          "text": [
            "time: 3min 41s (started: 2021-03-11 06:22:06 +00:00)\n"
          ],
          "name": "stdout"
        }
      ]
    },
    {
      "cell_type": "markdown",
      "metadata": {
        "id": "qZIvZ8sRMzrA"
      },
      "source": [
        "테스트 데이터에서 모델을 평가해 보죠:"
      ]
    },
    {
      "cell_type": "code",
      "metadata": {
        "id": "w9Ujb0vnMzrA"
      },
      "source": [
        "test_loss, test_acc = model.evaluate(input_test_images, test_labels)"
      ],
      "execution_count": null,
      "outputs": []
    },
    {
      "cell_type": "code",
      "metadata": {
        "id": "fCZLjJvmMzrB"
      },
      "source": [
        "test_acc"
      ],
      "execution_count": null,
      "outputs": []
    },
    {
      "cell_type": "markdown",
      "metadata": {
        "id": "2oPBi8El6UFh"
      },
      "source": [
        ""
      ]
    },
    {
      "cell_type": "markdown",
      "metadata": {
        "id": "pNxBOwYyMxG3"
      },
      "source": [
        "## **Homework 1**\n",
        "\n",
        "다음의 각 문항에 대해 실습목표를 완수하고, 출력 결과를 확인합니다.\n",
        "\n",
        "**※ 제출방법:** 실습내용 및 출력 결과가 저장된 Colab 파일(`*.ipynb`)를 KLMS의 과제 항목에 업로드\n",
        "\n",
        "//\n",
        "하지 못한 갯수에 대한 감점으로 처리.\n",
        "2주(14일)\n",
        "문제 다 풀고 출력가지 다 찍힌 상황에서 저장 후 제출\n",
        "숫자가 8 나오는 아무거나 찾으면 됨.\n",
        "GPU 실행을 통해 확인"
      ]
    },
    {
      "cell_type": "markdown",
      "metadata": {
        "id": "LvF5IjLHKLcH"
      },
      "source": [
        "### **실습 1. MNIST 데이터의 인덱스를 수정하여 학습/테스트 데이터를 확인하세요.**\n",
        "\n",
        "* 인덱스를 변경하여 다른 데이터도 같은 방법으로 출력할 수 있습니다."
      ]
    },
    {
      "cell_type": "markdown",
      "metadata": {
        "id": "VYs4e3eMN-T9"
      },
      "source": [
        "#### (1-a) \"<u>학습</u> 데이터\" 중에서 <u>\"8\" 숫자</u>인 인덱스를 발견하고, 결과를 출력하세요."
      ]
    },
    {
      "cell_type": "code",
      "metadata": {
        "id": "DAgYDP2RKZXc",
        "colab": {
          "base_uri": "https://localhost:8080/",
          "height": 283
        },
        "outputId": "6238e774-7e31-4e85-ff23-8a6231f6de03"
      },
      "source": [
        "import matplotlib.pyplot as plt # to print plot\n",
        "import numpy as np # to use Numpy.where\n",
        "import keras \n",
        "from keras.datasets import mnist # to get train & test datas\n",
        " \n",
        "### functions\n",
        "def GetTargetArrayIdx(target, labels):\n",
        "  idx = np.where(labels == target)\n",
        "  retval = idx[0][0];\n",
        "  if labels[retval] != TARGET:\n",
        "    retval = -1\n",
        "  return retval\n",
        " \n",
        "def PrintPltWithIdx(idx, labels, images):\n",
        "  digit = images[idx]\n",
        "  plt.imshow(digit, cmap=plt.cm.binary)\n",
        "  plt.show()\n",
        "  print (\"label: {}\".format(labels[idx]))  \n",
        " \n",
        "### main\n",
        "TARGET = 8;\n",
        " \n",
        "# get train & test datas from mnist\n",
        "(train_images, train_labels), (test_images, test_labels) = mnist.load_data()\n",
        " \n",
        "# get idx which label is 8 in training datas\n",
        "targetIdx = GetTargetArrayIdx(TARGET, train_labels)\n",
        " \n",
        "# print with found targetIdx\n",
        "PrintPltWithIdx(targetIdx, train_labels, train_images)"
      ],
      "execution_count": null,
      "outputs": [
        {
          "output_type": "display_data",
          "data": {
            "image/png": "[encoded data removed]",
            "text/plain": [
              "<Figure size 432x288 with 1 Axes>"
            ]
          },
          "metadata": {
            "tags": [],
            "needs_background": "light"
          }
        },
        {
          "output_type": "stream",
          "text": [
            "label: 8\n"
          ],
          "name": "stdout"
        }
      ]
    },
    {
      "cell_type": "markdown",
      "metadata": {
        "id": "cBH9_QF1OTKs"
      },
      "source": [
        "#### (1-b) 위의 1-a 코드 셀을 참고하여, \"<u>테스트</u> 데이터\" 중에서 <u>\"3\" 숫자</u>인 인덱스를 발견하고, 결과를 출력하세요."
      ]
    },
    {
      "cell_type": "code",
      "metadata": {
        "id": "o29P1lB9OTKt",
        "colab": {
          "base_uri": "https://localhost:8080/",
          "height": 283
        },
        "outputId": "17fee7a5-24bb-48a7-a3e8-d11ededaf6a6"
      },
      "source": [
        "import matplotlib.pyplot as plt # to print plot\n",
        "import numpy as np # to use Numpy.where\n",
        "import keras \n",
        "from keras.datasets import mnist # to get train & test datas\n",
        "\n",
        "### functions\n",
        "def GetTargetArrayIdx(target, labels):\n",
        "  idx = np.where(labels == target)\n",
        "  retval = idx[0][0];\n",
        "  if labels[retval] != TARGET:\n",
        "    retval = -1\n",
        "  return retval\n",
        "\n",
        "def PrintPltWithIdx(idx, labels, images):\n",
        "  digit = images[idx]\n",
        "  plt.imshow(digit, cmap=plt.cm.binary)\n",
        "  plt.show()\n",
        "  print (\"label: {}\".format(labels[idx]))  \n",
        "\n",
        "### main\n",
        "TARGET = 3;\n",
        "\n",
        "# get train & test datas from mnist\n",
        "(train_images, train_labels), (test_images, test_labels) = mnist.load_data()\n",
        "\n",
        "# get idx which label is 8 in training datas\n",
        "targetIdx = GetTargetArrayIdx(TARGET, test_labels)\n",
        "\n",
        "# print with found targetIdx\n",
        "PrintPltWithIdx(targetIdx, test_labels, test_images)"
      ],
      "execution_count": null,
      "outputs": [
        {
          "output_type": "display_data",
          "data": {
            "image/png": "[encoded data removed]",
            "text/plain": [
              "<Figure size 432x288 with 1 Axes>"
            ]
          },
          "metadata": {
            "tags": [],
            "needs_background": "light"
          }
        },
        {
          "output_type": "stream",
          "text": [
            "label: 3\n"
          ],
          "name": "stdout"
        }
      ]
    },
    {
      "cell_type": "markdown",
      "metadata": {
        "id": "hPxqGJDbP3Gr"
      },
      "source": [
        "### **실습 2. 간단한 모델을 학습할 때, Colab의 런타임 유형에 따라 얼마나 시간이 차이나는지 비교하세요.**\n",
        "\n",
        "* 본문의 2-2절에서 코드 셀을 참고하여 간단한 모델을 학습하는 코드 블록을 완성하세요.\n",
        "* (참고) 런타임 유형을 변경하면 <u>Colab의 리소스가 초기화</u> 됩니다.\n",
        "  * 즉, 변수 선언, 모듈 임포트 등을 다시 실행해야 합니다.\n",
        "  * 그러나 출력 결과의 내용은 없어지지 않으므로, CPU 및 GPU의 실행 결과를 남겨둔 상태로 제출하세요.\n",
        "  * 활용 팁 파트와 같이, 코드 셀의 실행시간 측정 모듈 `autotime`을 적용해야 합니다."
      ]
    },
    {
      "cell_type": "markdown",
      "metadata": {
        "id": "DKDw8eSVQPVj"
      },
      "source": [
        "#### 2-a) 런타임 유형이 <u>**CPU**</u>일 때 실행결과 확인"
      ]
    },
    {
      "cell_type": "code",
      "metadata": {
        "id": "AtZtl1uTRNuh",
        "colab": {
          "base_uri": "https://localhost:8080/"
        },
        "outputId": "d7af6cd5-fbfa-4358-df4d-9c8732837b94"
      },
      "source": [
        "# 각 코드 셀의 실행시간 측정 모듈\n",
        "#!pip install ipython-autotime\n",
        "#%load_ext autotime\n",
        "\n",
        "import keras \n",
        "from keras.datasets import mnist # to get train & test datas\n",
        "\n",
        "# get train & test datas from mnist\n",
        "(train_images, train_labels), (test_images, test_labels) = mnist.load_data()\n",
        "\n",
        "# TODO: 모델 정의\n",
        "from keras import models\n",
        "from keras import layers\n",
        "\n",
        "# 모델의 레이어 추가\n",
        "network = models.Sequential()\n",
        "network.add(layers.Dense(512, activation='relu', input_shape=(28 * 28,),name='Input_Layer'))\n",
        "network.add(layers.Dense(10, activation='softmax',name='Output_Layer'))\n",
        "\n",
        "from keras.utils import plot_model\n",
        "plot_model(network, show_shapes=True)\n",
        "\n",
        "network.compile(optimizer='rmsprop',\n",
        "                loss='categorical_crossentropy',\n",
        "                metrics=['accuracy'])\n",
        "\n",
        "\n",
        "# TODO: 모델 학습\n",
        "# 학습 데이터의 표현 형태 변경 (2d array --> 1d array)\n",
        "input_train_images = train_images.reshape((60000, 28 * 28))\n",
        "# 학습 데이터의 값의 범주 변경 (0~255 --> 0~1)\n",
        "input_train_images = input_train_images.astype('float32') / 255\n",
        "\n",
        "input_test_images = test_images.reshape((10000, 28 * 28))\n",
        "input_test_images = input_test_images.astype('float32') / 255\n",
        "\n",
        "\n",
        "from keras.utils import to_categorical\n",
        "\n",
        "# 레이블을 범주형(one-hot)으로 변경 \n",
        "onehot_train_labels = to_categorical(train_labels)\n",
        "onehot_test_labels = to_categorical(test_labels)\n",
        "\n",
        "print (\"학습 데이터의 0번 레이블 출력:\", train_labels[0])\n",
        "print (\"학습 데이터의 0번 레이블을 범주형으로 출력:\",onehot_train_labels[0])\n",
        "\n",
        "network.fit(input_train_images, \n",
        "            onehot_train_labels, \n",
        "            epochs=5, \n",
        "            batch_size=128)\n"
      ],
      "execution_count": null,
      "outputs": [
        {
          "output_type": "stream",
          "text": [
            "Downloading data from https://storage.googleapis.com/tensorflow/tf-keras-datasets/mnist.npz\n",
            "11493376/11490434 [==============================] - 0s 0us/step\n",
            "학습 데이터의 0번 레이블 출력: 5\n",
            "학습 데이터의 0번 레이블을 범주형으로 출력: [0. 0. 0. 0. 0. 1. 0. 0. 0. 0.]\n",
            "Epoch 1/5\n",
            "469/469 [==============================] - 3s 6ms/step - loss: 0.4150 - accuracy: 0.8823\n",
            "Epoch 2/5\n",
            "469/469 [==============================] - 3s 6ms/step - loss: 0.1092 - accuracy: 0.9673\n",
            "Epoch 3/5\n",
            "469/469 [==============================] - 3s 6ms/step - loss: 0.0672 - accuracy: 0.9804\n",
            "Epoch 4/5\n",
            "469/469 [==============================] - 3s 6ms/step - loss: 0.0471 - accuracy: 0.9860\n",
            "Epoch 5/5\n",
            "469/469 [==============================] - 3s 6ms/step - loss: 0.0337 - accuracy: 0.9898\n"
          ],
          "name": "stdout"
        },
        {
          "output_type": "execute_result",
          "data": {
            "text/plain": [
              "<tensorflow.python.keras.callbacks.History at 0x7feaeb0dc610>"
            ]
          },
          "metadata": {
            "tags": []
          },
          "execution_count": 2
        },
        {
          "output_type": "stream",
          "text": [
            "time: 17.3 s (started: 2021-03-13 07:26:04 +00:00)\n"
          ],
          "name": "stdout"
        }
      ]
    },
    {
      "cell_type": "markdown",
      "metadata": {
        "id": "wXLqRc7XRee0"
      },
      "source": [
        "#### 2-b) 런타임 유형이 <u>**GPU**</u>일 때 실행결과 확인"
      ]
    },
    {
      "cell_type": "code",
      "metadata": {
        "id": "R8IX2HMzRee8",
        "colab": {
          "base_uri": "https://localhost:8080/"
        },
        "outputId": "e2a63028-0ddd-48c7-a5fe-4553768de5f8"
      },
      "source": [
        "# 각 코드 셀의 실행시간 측정 모듈\n",
        "#!pip install ipython-autotime\n",
        "#%load_ext autotime\n",
        "\n",
        "import keras \n",
        "from keras.datasets import mnist # to get train & test datas\n",
        "\n",
        "# get train & test datas from mnist\n",
        "(train_images, train_labels), (test_images, test_labels) = mnist.load_data()\n",
        "\n",
        "# TODO: 모델 정의\n",
        "from keras import models\n",
        "from keras import layers\n",
        "\n",
        "# 모델의 레이어 추가\n",
        "network = models.Sequential()\n",
        "network.add(layers.Dense(512, activation='relu', input_shape=(28 * 28,),name='Input_Layer'))\n",
        "network.add(layers.Dense(10, activation='softmax',name='Output_Layer'))\n",
        "\n",
        "from keras.utils import plot_model\n",
        "plot_model(network, show_shapes=True)\n",
        "\n",
        "network.compile(optimizer='rmsprop',\n",
        "                loss='categorical_crossentropy',\n",
        "                metrics=['accuracy'])\n",
        "\n",
        "\n",
        "# TODO: 모델 학습\n",
        "# 학습 데이터의 표현 형태 변경 (2d array --> 1d array)\n",
        "input_train_images = train_images.reshape((60000, 28 * 28))\n",
        "# 학습 데이터의 값의 범주 변경 (0~255 --> 0~1)\n",
        "input_train_images = input_train_images.astype('float32') / 255\n",
        "\n",
        "input_test_images = test_images.reshape((10000, 28 * 28))\n",
        "input_test_images = input_test_images.astype('float32') / 255\n",
        "\n",
        "\n",
        "from keras.utils import to_categorical\n",
        "\n",
        "# 레이블을 범주형(one-hot)으로 변경 \n",
        "onehot_train_labels = to_categorical(train_labels)\n",
        "onehot_test_labels = to_categorical(test_labels)\n",
        "\n",
        "print (\"학습 데이터의 0번 레이블 출력:\", train_labels[0])\n",
        "print (\"학습 데이터의 0번 레이블을 범주형으로 출력:\",onehot_train_labels[0])\n",
        "\n",
        "network.fit(input_train_images, \n",
        "            onehot_train_labels, \n",
        "            epochs=5, \n",
        "            batch_size=128)\n"
      ],
      "execution_count": null,
      "outputs": [
        {
          "output_type": "stream",
          "text": [
            "Downloading data from https://storage.googleapis.com/tensorflow/tf-keras-datasets/mnist.npz\n",
            "11493376/11490434 [==============================] - 0s 0us/step\n",
            "학습 데이터의 0번 레이블 출력: 5\n",
            "학습 데이터의 0번 레이블을 범주형으로 출력: [0. 0. 0. 0. 0. 1. 0. 0. 0. 0.]\n",
            "Epoch 1/5\n",
            "469/469 [==============================] - 4s 3ms/step - loss: 0.4505 - accuracy: 0.8702\n",
            "Epoch 2/5\n",
            "469/469 [==============================] - 1s 3ms/step - loss: 0.1132 - accuracy: 0.9667\n",
            "Epoch 3/5\n",
            "469/469 [==============================] - 1s 3ms/step - loss: 0.0725 - accuracy: 0.9784\n",
            "Epoch 4/5\n",
            "469/469 [==============================] - 1s 3ms/step - loss: 0.0503 - accuracy: 0.9850\n",
            "Epoch 5/5\n",
            "469/469 [==============================] - 1s 3ms/step - loss: 0.0358 - accuracy: 0.9895\n"
          ],
          "name": "stdout"
        },
        {
          "output_type": "execute_result",
          "data": {
            "text/plain": [
              "<tensorflow.python.keras.callbacks.History at 0x7efee0085c10>"
            ]
          },
          "metadata": {
            "tags": []
          },
          "execution_count": 4
        },
        {
          "output_type": "stream",
          "text": [
            "time: 10.3 s (started: 2021-03-13 07:23:57 +00:00)\n"
          ],
          "name": "stdout"
        }
      ]
    },
    {
      "cell_type": "markdown",
      "metadata": {
        "id": "lgaN5wovR01L"
      },
      "source": [
        "### **실습 3. 간단한 모델의 구조를 변경해 본 후, 성능 테스트 결과가 변화하는 것을 확인하세요.**\n",
        "\n",
        "* 본문의 2-2절 및 2-3절에서 코드 셀을 참고하여 간단한 모델을 학습하는 코드 블록을 완성하세요.\n",
        "* 간단한 모델에 <u>레이어를 최소 1개 이상</u> 더 추가해보세요."
      ]
    },
    {
      "cell_type": "code",
      "metadata": {
        "id": "zirrIiOyR01M",
        "colab": {
          "base_uri": "https://localhost:8080/"
        },
        "outputId": "2062b87c-e2ae-492b-db65-b0939302fdd8"
      },
      "source": [
        "# 각 코드 셀의 실행시간 측정 모듈\n",
        "#!pip install ipython-autotime\n",
        "#%load_ext autotime\n",
        "\n",
        "import keras \n",
        "from keras.datasets import mnist # to get train & test datas\n",
        "\n",
        "# get train & test datas from mnist\n",
        "(train_images, train_labels), (test_images, test_labels) = mnist.load_data()\n",
        "\n",
        "# TODO: 모델 정의\n",
        "from keras import models\n",
        "from keras import layers\n",
        "\n",
        "# 모델의 레이어 추가\n",
        "network = models.Sequential()\n",
        "network.add(layers.Dense(512, activation='relu', input_shape=(28 * 28,),name='Input_Layer'))\n",
        "### 해당 레이어까지의 테스트 결과값(none-GPU)\n",
        "#학습 데이터의 0번 레이블 출력: 5\n",
        "#학습 데이터의 0번 레이블을 범주형으로 출력: [0. 0. 0. 0. 0. 1. 0. 0. 0. 0.]\n",
        "#Epoch 1/5\n",
        "#469/469 [==============================] - 3s 6ms/step - loss: 0.4322 - accuracy: 0.8734\n",
        "#Epoch 2/5\n",
        "#469/469 [==============================] - 3s 6ms/step - loss: 0.1115 - accuracy: 0.9670\n",
        "#Epoch 3/5\n",
        "#469/469 [==============================] - 3s 6ms/step - loss: 0.0683 - accuracy: 0.9801\n",
        "#Epoch 4/5\n",
        "#469/469 [==============================] - 3s 6ms/step - loss: 0.0513 - accuracy: 0.9847\n",
        "#Epoch 5/5\n",
        "#469/469 [==============================] - 3s 6ms/step - loss: 0.0367 - accuracy: 0.9890\n",
        "#313/313 [==============================] - 1s 2ms/step - loss: 0.0652 - accuracy: 0.9809\n",
        "#test_acc: 0.98089998960495\n",
        "#time: 15.6 s (started: 2021-03-13 07:28:15 +00:00)\n",
        "network.add(layers.Dense(512, activation='relu'))\n",
        "network.add(layers.Dense(512, activation='relu'))\n",
        "network.add(layers.Dense(512, activation='relu'))\n",
        "### 해당 레이어까지의 테스트 결과값(none-GPU)\n",
        "#학습 데이터의 0번 레이블 출력: 5\n",
        "#학습 데이터의 0번 레이블을 범주형으로 출력: [0. 0. 0. 0. 0. 1. 0. 0. 0. 0.]\n",
        "#Epoch 1/5\n",
        "#469/469 [==============================] - 9s 18ms/step - loss: 0.4960 - accuracy: 0.8399\n",
        "#Epoch 2/5\n",
        "#469/469 [==============================] - 9s 18ms/step - loss: 0.1025 - accuracy: 0.9704\n",
        "#Epoch 3/5\n",
        "#469/469 [==============================] - 9s 18ms/step - loss: 0.0684 - accuracy: 0.9809\n",
        "#Epoch 4/5\n",
        "#469/469 [==============================] - 9s 18ms/step - loss: 0.0576 - accuracy: 0.9849\n",
        "#Epoch 5/5\n",
        "#469/469 [==============================] - 9s 18ms/step - loss: 0.0469 - accuracy: 0.9880\n",
        "#313/313 [==============================] - 1s 3ms/step - loss: 0.1407 - accuracy: 0.9787\n",
        "#test_acc: 0.9786999821662903\n",
        "#time: 45 s (started: 2021-03-13 07:32:57 +00:00)\n",
        "\n",
        "network.add(layers.Dense(10, activation='softmax',name='Output_Layer'))\n",
        "\n",
        "\n",
        "from keras.utils import plot_model\n",
        "plot_model(network, show_shapes=True)\n",
        "\n",
        "network.compile(optimizer='rmsprop',\n",
        "                loss='categorical_crossentropy',\n",
        "                metrics=['accuracy'])\n",
        "\n",
        "\n",
        "# TODO: 모델 학습\n",
        "# 학습 데이터의 표현 형태 변경 (2d array --> 1d array)\n",
        "input_train_images = train_images.reshape((60000, 28 * 28))\n",
        "# 학습 데이터의 값의 범주 변경 (0~255 --> 0~1)\n",
        "input_train_images = input_train_images.astype('float32') / 255\n",
        "\n",
        "input_test_images = test_images.reshape((10000, 28 * 28))\n",
        "input_test_images = input_test_images.astype('float32') / 255\n",
        "\n",
        "\n",
        "from keras.utils import to_categorical\n",
        "\n",
        "# 레이블을 범주형(one-hot)으로 변경 \n",
        "onehot_train_labels = to_categorical(train_labels)\n",
        "onehot_test_labels = to_categorical(test_labels)\n",
        "\n",
        "print (\"학습 데이터의 0번 레이블 출력:\", train_labels[0])\n",
        "print (\"학습 데이터의 0번 레이블을 범주형으로 출력:\",onehot_train_labels[0])\n",
        "\n",
        "network.fit(input_train_images, \n",
        "            onehot_train_labels, \n",
        "            epochs=5, \n",
        "            batch_size=128)\n",
        "\n",
        "# TODO: 모델 테스트\n",
        "# 테스트셋 테스트 \n",
        "test_loss, test_acc = network.evaluate(input_test_images, onehot_test_labels)\n",
        "\n",
        "#테스트 결과 출력\n",
        "print('test_acc:', test_acc)\n"
      ],
      "execution_count": null,
      "outputs": [
        {
          "output_type": "stream",
          "text": [
            "학습 데이터의 0번 레이블 출력: 5\n",
            "학습 데이터의 0번 레이블을 범주형으로 출력: [0. 0. 0. 0. 0. 1. 0. 0. 0. 0.]\n",
            "Epoch 1/5\n",
            "469/469 [==============================] - 9s 18ms/step - loss: 0.4960 - accuracy: 0.8399\n",
            "Epoch 2/5\n",
            "469/469 [==============================] - 9s 18ms/step - loss: 0.1025 - accuracy: 0.9704\n",
            "Epoch 3/5\n",
            "469/469 [==============================] - 9s 18ms/step - loss: 0.0684 - accuracy: 0.9809\n",
            "Epoch 4/5\n",
            "469/469 [==============================] - 9s 18ms/step - loss: 0.0576 - accuracy: 0.9849\n",
            "Epoch 5/5\n",
            "469/469 [==============================] - 9s 18ms/step - loss: 0.0469 - accuracy: 0.9880\n",
            "313/313 [==============================] - 1s 3ms/step - loss: 0.1407 - accuracy: 0.9787\n",
            "test_acc: 0.9786999821662903\n",
            "time: 45 s (started: 2021-03-13 07:32:57 +00:00)\n"
          ],
          "name": "stdout"
        }
      ]
    }
  ]
}