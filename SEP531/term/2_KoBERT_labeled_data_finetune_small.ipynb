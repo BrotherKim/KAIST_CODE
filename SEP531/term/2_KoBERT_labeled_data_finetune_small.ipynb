{
  "nbformat": 4,
  "nbformat_minor": 0,
  "metadata": {
    "colab": {
      "name": "SEP531/term/2_KoBERT_labeled_data_finetune_small.ipynb",
      "provenance": [],
      "collapsed_sections": [],
      "machine_shape": "hm",
      "authorship_tag": "ABX9TyMEeh8gCzVFWObGtKsPcBFO",
      "include_colab_link": true
    },
    "kernelspec": {
      "name": "python3",
      "display_name": "Python 3"
    },
    "language_info": {
      "name": "python"
    },
    "accelerator": "GPU"
  },
  "cells": [
    {
      "cell_type": "markdown",
      "metadata": {
        "id": "view-in-github",
        "colab_type": "text"
      },
      "source": [
        "<a href=\"https://colab.research.google.com/github/BrotherKim/KAIST_CODE/blob/master/SEP531/term/2_KoBERT_labeled_data_finetune_small.ipynb\" target=\"_parent\"><img src=\"https://colab.research.google.com/assets/colab-badge.svg\" alt=\"Open In Colab\"/></a>"
      ]
    },
    {
      "cell_type": "markdown",
      "metadata": {
        "id": "V9TKL9NZ_Dh-"
      },
      "source": [
        "#실행 환경#\n",
        "\n",
        "- Python >= 3.6\n",
        "- PyTorch >= 1.70\n",
        "- Transformers = 3.0.2\n",
        "- Colab\n",
        "- batch size = 64 (convertable)\n",
        "- epochs = 10 (convertable)"
      ]
    },
    {
      "cell_type": "code",
      "metadata": {
        "colab": {
          "base_uri": "https://localhost:8080/"
        },
        "id": "sU6f6roY-5sW",
        "outputId": "a91db399-d058-4381-b148-a65292655bf7"
      },
      "source": [
        "!pip install mxnet\n",
        "!pip install gluonnlp pandas tqdm\n",
        "!pip install sentencepiece\n",
        "!pip install transformers==3.0.2\n",
        "!pip install torch"
      ],
      "execution_count": null,
      "outputs": [
        {
          "output_type": "stream",
          "name": "stdout",
          "text": [
            "Requirement already satisfied: mxnet in /usr/local/lib/python3.7/dist-packages (1.8.0.post0)\n",
            "Requirement already satisfied: requests<3,>=2.20.0 in /usr/local/lib/python3.7/dist-packages (from mxnet) (2.23.0)\n",
            "Requirement already satisfied: numpy<2.0.0,>1.16.0 in /usr/local/lib/python3.7/dist-packages (from mxnet) (1.19.5)\n",
            "Requirement already satisfied: graphviz<0.9.0,>=0.8.1 in /usr/local/lib/python3.7/dist-packages (from mxnet) (0.8.4)\n",
            "Requirement already satisfied: chardet<4,>=3.0.2 in /usr/local/lib/python3.7/dist-packages (from requests<3,>=2.20.0->mxnet) (3.0.4)\n",
            "Requirement already satisfied: idna<3,>=2.5 in /usr/local/lib/python3.7/dist-packages (from requests<3,>=2.20.0->mxnet) (2.10)\n",
            "Requirement already satisfied: certifi>=2017.4.17 in /usr/local/lib/python3.7/dist-packages (from requests<3,>=2.20.0->mxnet) (2021.5.30)\n",
            "Requirement already satisfied: urllib3!=1.25.0,!=1.25.1,<1.26,>=1.21.1 in /usr/local/lib/python3.7/dist-packages (from requests<3,>=2.20.0->mxnet) (1.24.3)\n",
            "Requirement already satisfied: gluonnlp in /usr/local/lib/python3.7/dist-packages (0.10.0)\n",
            "Requirement already satisfied: pandas in /usr/local/lib/python3.7/dist-packages (1.1.5)\n",
            "Requirement already satisfied: tqdm in /usr/local/lib/python3.7/dist-packages (4.62.3)\n",
            "Requirement already satisfied: packaging in /usr/local/lib/python3.7/dist-packages (from gluonnlp) (21.0)\n",
            "Requirement already satisfied: numpy>=1.16.0 in /usr/local/lib/python3.7/dist-packages (from gluonnlp) (1.19.5)\n",
            "Requirement already satisfied: cython in /usr/local/lib/python3.7/dist-packages (from gluonnlp) (0.29.24)\n",
            "Requirement already satisfied: pytz>=2017.2 in /usr/local/lib/python3.7/dist-packages (from pandas) (2018.9)\n",
            "Requirement already satisfied: python-dateutil>=2.7.3 in /usr/local/lib/python3.7/dist-packages (from pandas) (2.8.2)\n",
            "Requirement already satisfied: six>=1.5 in /usr/local/lib/python3.7/dist-packages (from python-dateutil>=2.7.3->pandas) (1.15.0)\n",
            "Requirement already satisfied: pyparsing>=2.0.2 in /usr/local/lib/python3.7/dist-packages (from packaging->gluonnlp) (2.4.7)\n",
            "Requirement already satisfied: sentencepiece in /usr/local/lib/python3.7/dist-packages (0.1.96)\n",
            "Requirement already satisfied: transformers==3.0.2 in /usr/local/lib/python3.7/dist-packages (3.0.2)\n",
            "Requirement already satisfied: requests in /usr/local/lib/python3.7/dist-packages (from transformers==3.0.2) (2.23.0)\n",
            "Requirement already satisfied: tqdm>=4.27 in /usr/local/lib/python3.7/dist-packages (from transformers==3.0.2) (4.62.3)\n",
            "Requirement already satisfied: sentencepiece!=0.1.92 in /usr/local/lib/python3.7/dist-packages (from transformers==3.0.2) (0.1.96)\n",
            "Requirement already satisfied: numpy in /usr/local/lib/python3.7/dist-packages (from transformers==3.0.2) (1.19.5)\n",
            "Requirement already satisfied: regex!=2019.12.17 in /usr/local/lib/python3.7/dist-packages (from transformers==3.0.2) (2019.12.20)\n",
            "Requirement already satisfied: tokenizers==0.8.1.rc1 in /usr/local/lib/python3.7/dist-packages (from transformers==3.0.2) (0.8.1rc1)\n",
            "Requirement already satisfied: sacremoses in /usr/local/lib/python3.7/dist-packages (from transformers==3.0.2) (0.0.46)\n",
            "Requirement already satisfied: packaging in /usr/local/lib/python3.7/dist-packages (from transformers==3.0.2) (21.0)\n",
            "Requirement already satisfied: filelock in /usr/local/lib/python3.7/dist-packages (from transformers==3.0.2) (3.3.0)\n",
            "Requirement already satisfied: pyparsing>=2.0.2 in /usr/local/lib/python3.7/dist-packages (from packaging->transformers==3.0.2) (2.4.7)\n",
            "Requirement already satisfied: certifi>=2017.4.17 in /usr/local/lib/python3.7/dist-packages (from requests->transformers==3.0.2) (2021.5.30)\n",
            "Requirement already satisfied: idna<3,>=2.5 in /usr/local/lib/python3.7/dist-packages (from requests->transformers==3.0.2) (2.10)\n",
            "Requirement already satisfied: chardet<4,>=3.0.2 in /usr/local/lib/python3.7/dist-packages (from requests->transformers==3.0.2) (3.0.4)\n",
            "Requirement already satisfied: urllib3!=1.25.0,!=1.25.1,<1.26,>=1.21.1 in /usr/local/lib/python3.7/dist-packages (from requests->transformers==3.0.2) (1.24.3)\n",
            "Requirement already satisfied: six in /usr/local/lib/python3.7/dist-packages (from sacremoses->transformers==3.0.2) (1.15.0)\n",
            "Requirement already satisfied: joblib in /usr/local/lib/python3.7/dist-packages (from sacremoses->transformers==3.0.2) (1.0.1)\n",
            "Requirement already satisfied: click in /usr/local/lib/python3.7/dist-packages (from sacremoses->transformers==3.0.2) (7.1.2)\n",
            "Requirement already satisfied: torch in /usr/local/lib/python3.7/dist-packages (1.9.0+cu111)\n",
            "Requirement already satisfied: typing-extensions in /usr/local/lib/python3.7/dist-packages (from torch) (3.7.4.3)\n"
          ]
        }
      ]
    },
    {
      "cell_type": "markdown",
      "metadata": {
        "id": "gSlNTmU-_WS9"
      },
      "source": [
        "#KoBERT 다운로드#"
      ]
    },
    {
      "cell_type": "code",
      "metadata": {
        "colab": {
          "base_uri": "https://localhost:8080/"
        },
        "id": "R12JYVZJ_al4",
        "outputId": "c160d889-f6c7-498b-c905-63968adaba20"
      },
      "source": [
        "#깃허브에서 KoBERT 파일 로드\n",
        "!pip install git+https://git@github.com/SKTBrain/KoBERT.git@master"
      ],
      "execution_count": null,
      "outputs": [
        {
          "output_type": "stream",
          "name": "stdout",
          "text": [
            "Collecting git+https://****@github.com/SKTBrain/KoBERT.git@master\n",
            "  Cloning https://****@github.com/SKTBrain/KoBERT.git (to revision master) to /tmp/pip-req-build-n4u4mwjv\n",
            "  Running command git clone -q 'https://****@github.com/SKTBrain/KoBERT.git' /tmp/pip-req-build-n4u4mwjv\n"
          ]
        }
      ]
    },
    {
      "cell_type": "code",
      "metadata": {
        "id": "RG56WkzA_ccN"
      },
      "source": [
        "import torch\n",
        "from torch import nn\n",
        "import torch.nn.functional as F\n",
        "import torch.optim as optim\n",
        "from torch.utils.data import Dataset, DataLoader\n",
        "import gluonnlp as nlp\n",
        "import numpy as np\n",
        "from tqdm import tqdm, tqdm_notebook"
      ],
      "execution_count": null,
      "outputs": []
    },
    {
      "cell_type": "code",
      "metadata": {
        "id": "enK_3xLH_ecb"
      },
      "source": [
        "#kobert\n",
        "from kobert.utils import get_tokenizer\n",
        "from kobert.pytorch_kobert import get_pytorch_kobert_model\n",
        "\n",
        "#transformers\n",
        "from transformers import AdamW\n",
        "from transformers.optimization import get_cosine_schedule_with_warmup"
      ],
      "execution_count": null,
      "outputs": []
    },
    {
      "cell_type": "code",
      "metadata": {
        "id": "x35BKT7q_gAU"
      },
      "source": [
        "#GPU 사용\n",
        "device = torch.device(\"cuda:0\")"
      ],
      "execution_count": null,
      "outputs": []
    },
    {
      "cell_type": "code",
      "metadata": {
        "colab": {
          "base_uri": "https://localhost:8080/"
        },
        "id": "QoVIALyi_hR_",
        "outputId": "db9888e4-6be4-4266-e7e6-7f1e7b1fb9a7"
      },
      "source": [
        "#BERT 모델, Vocabulary 불러오기\n",
        "bertmodel, vocab = get_pytorch_kobert_model()"
      ],
      "execution_count": null,
      "outputs": [
        {
          "output_type": "stream",
          "name": "stdout",
          "text": [
            "using cached model\n",
            "using cached model\n"
          ]
        }
      ]
    },
    {
      "cell_type": "markdown",
      "metadata": {
        "id": "6n3DFp5u_uub"
      },
      "source": [
        "#데이터셋 전처리#"
      ]
    },
    {
      "cell_type": "code",
      "metadata": {
        "colab": {
          "base_uri": "https://localhost:8080/"
        },
        "id": "OsYdNv9u_wZ4",
        "outputId": "f81ff91e-eaff-4e81-dbe9-9d138e6fb42b"
      },
      "source": [
        "#구글드라이브 연동\n",
        "from google.colab import drive\n",
        "drive.mount('/content/drive')"
      ],
      "execution_count": null,
      "outputs": [
        {
          "output_type": "stream",
          "name": "stdout",
          "text": [
            "Drive already mounted at /content/drive; to attempt to forcibly remount, call drive.mount(\"/content/drive\", force_remount=True).\n"
          ]
        }
      ]
    },
    {
      "cell_type": "code",
      "metadata": {
        "id": "CukpBCQXvPt9"
      },
      "source": [
        "# 터미널 커맨드를 문자열로 반환해주는 함수 작성\n",
        "\n",
        "import subprocess\n",
        "\n",
        "def GetShellCmdStdOut(command):\n",
        "  cmd = ['sh', '-c', command]\n",
        "  fd_popen = subprocess.Popen(cmd, stdout=subprocess.PIPE).stdout \n",
        "  data = fd_popen.read().strip() \n",
        "  fd_popen.close()\n",
        "\n",
        "  retval = data.decode('utf-8') \n",
        "  return retval"
      ],
      "execution_count": null,
      "outputs": []
    },
    {
      "cell_type": "code",
      "metadata": {
        "id": "J2utXamSvMb6"
      },
      "source": [
        "ROOT_DIR = '/content/drive/MyDrive/KAIST/SEP531/kor_ks_labeled'\n",
        "TRAIN_DIR = '%s/train' % ROOT_DIR\n",
        "VALID_DIR = '%s/valid' % ROOT_DIR"
      ],
      "execution_count": null,
      "outputs": []
    },
    {
      "cell_type": "code",
      "metadata": {
        "colab": {
          "base_uri": "https://localhost:8080/"
        },
        "id": "fLExo1PuvR4O",
        "outputId": "af0cf15d-e04a-4b98-8ce7-a8cb875db384"
      },
      "source": [
        "%pushd $TRAIN_DIR\n",
        "tl = GetShellCmdStdOut('find | grep json.answer').split('\\n')\n",
        "train_json_list = [x.replace('./', '') for x in tl]\n",
        "%popd"
      ],
      "execution_count": null,
      "outputs": [
        {
          "output_type": "stream",
          "name": "stdout",
          "text": [
            "/content/drive/MyDrive/KAIST/SEP531/kor_ks_labeled/train\n",
            "/content\n",
            "popd -> /content\n"
          ]
        }
      ]
    },
    {
      "cell_type": "code",
      "metadata": {
        "colab": {
          "base_uri": "https://localhost:8080/"
        },
        "id": "1Zwqj1cTvSJl",
        "outputId": "7926f40e-fb49-4d14-d17b-26e491b8c89d"
      },
      "source": [
        "%pushd $VALID_DIR\n",
        "vl = GetShellCmdStdOut('find | grep json.answer').split('\\n')\n",
        "valid_json_list = [x.replace('./', '') for x in vl]\n",
        "%popd"
      ],
      "execution_count": null,
      "outputs": [
        {
          "output_type": "stream",
          "name": "stdout",
          "text": [
            "/content/drive/MyDrive/KAIST/SEP531/kor_ks_labeled/valid\n",
            "/content\n",
            "popd -> /content\n"
          ]
        }
      ]
    },
    {
      "cell_type": "code",
      "metadata": {
        "colab": {
          "base_uri": "https://localhost:8080/"
        },
        "id": "6QEv7qx2wbis",
        "outputId": "36190090-cac2-45a7-d880-42c160b2bdf5"
      },
      "source": [
        "print('%d %d\\n' % (len(train_json_list), len(valid_json_list)))"
      ],
      "execution_count": null,
      "outputs": [
        {
          "output_type": "stream",
          "name": "stdout",
          "text": [
            "109 156\n",
            "\n"
          ]
        }
      ]
    },
    {
      "cell_type": "code",
      "metadata": {
        "id": "dk1ntskgw3qW"
      },
      "source": [
        "import csv\n",
        "\n",
        "dic = {0:'공포', 1:'놀람', 2:'분노', 3:'슬픔', 4:'중립', 5:'행복', 6:'혐오'}\n",
        "\n",
        "std_data_list = []\n",
        "dia_data_list = []\n",
        "for tf in train_json_list[0:8]:\n",
        "  with open('%s/%s' % (TRAIN_DIR, tf), newline='') as csvfile:\n",
        "    spamreader = csv.reader(csvfile, delimiter='\\t')\n",
        "    for row in spamreader:\n",
        "      std_data = []\n",
        "      std_data.append(row[0])\n",
        "      std_data.append(row[2])\n",
        "      std_data_list.append(std_data)\n",
        "\n",
        "      dia_data = []\n",
        "      dia_data.append(row[1])\n",
        "      dia_data.append(row[2])\n",
        "      dia_data_list.append(dia_data)\n",
        "      #print('%s(%s) %s\\n' % (dic.get(int(row[2])), row[2], row[0]))"
      ],
      "execution_count": null,
      "outputs": []
    },
    {
      "cell_type": "code",
      "metadata": {
        "colab": {
          "base_uri": "https://localhost:8080/"
        },
        "id": "FD1ejnXzxo1j",
        "outputId": "18f1b767-8497-498f-e556-9227ab597c56"
      },
      "source": [
        "len(std_data_list)"
      ],
      "execution_count": null,
      "outputs": [
        {
          "output_type": "execute_result",
          "data": {
            "text/plain": [
              "2186"
            ]
          },
          "metadata": {},
          "execution_count": 14
        }
      ]
    },
    {
      "cell_type": "markdown",
      "metadata": {
        "id": "zk6qIGm-BqRd"
      },
      "source": [
        "#데이터셋 쪼개기#"
      ]
    },
    {
      "cell_type": "code",
      "metadata": {
        "id": "1tPWK1mSypI2"
      },
      "source": [
        "data_list = std_data_list"
      ],
      "execution_count": null,
      "outputs": []
    },
    {
      "cell_type": "code",
      "metadata": {
        "id": "2Y96cCzhBtSy"
      },
      "source": [
        "#train & test 데이터로 나누기\n",
        "from sklearn.model_selection import train_test_split\n",
        "                                                         \n",
        "dataset_train, dataset_test = train_test_split(data_list, test_size=0.25, random_state=0)"
      ],
      "execution_count": null,
      "outputs": []
    },
    {
      "cell_type": "code",
      "metadata": {
        "colab": {
          "base_uri": "https://localhost:8080/"
        },
        "id": "t7XIvV17BwAo",
        "outputId": "32de8d06-89dc-4fbf-e5fb-78394df48e46"
      },
      "source": [
        "print(len(dataset_train))\n",
        "print(len(dataset_test))"
      ],
      "execution_count": null,
      "outputs": [
        {
          "output_type": "stream",
          "name": "stdout",
          "text": [
            "1639\n",
            "547\n"
          ]
        }
      ]
    },
    {
      "cell_type": "markdown",
      "metadata": {
        "id": "TUtyPARZBxUm"
      },
      "source": [
        "#KoBERT 입력 데이터로 변환#"
      ]
    },
    {
      "cell_type": "code",
      "metadata": {
        "id": "56vNLMjoB0K7"
      },
      "source": [
        "class BERTDataset(Dataset):\n",
        "    def __init__(self, dataset, sent_idx, label_idx, bert_tokenizer, max_len,\n",
        "                 pad, pair):\n",
        "        transform = nlp.data.BERTSentenceTransform(\n",
        "            bert_tokenizer, max_seq_length=max_len, pad=pad, pair=pair)\n",
        "\n",
        "        self.sentences = [transform([i[sent_idx]]) for i in dataset]\n",
        "        self.labels = [np.int32(i[label_idx]) for i in dataset]\n",
        "\n",
        "    def __getitem__(self, i):\n",
        "        return (self.sentences[i] + (self.labels[i], ))\n",
        "\n",
        "    def __len__(self):\n",
        "        return (len(self.labels))"
      ],
      "execution_count": null,
      "outputs": []
    },
    {
      "cell_type": "code",
      "metadata": {
        "id": "W_Cn--xmB2Kg"
      },
      "source": [
        "# Setting parameters\n",
        "max_len = 64\n",
        "batch_size = 64 # origin : 64\n",
        "warmup_ratio = 0.1\n",
        "num_epochs = 5\n",
        "max_grad_norm = 1\n",
        "log_interval = 200\n",
        "learning_rate =  5e-5"
      ],
      "execution_count": null,
      "outputs": []
    },
    {
      "cell_type": "code",
      "metadata": {
        "colab": {
          "base_uri": "https://localhost:8080/"
        },
        "id": "nijyNlanB4Ds",
        "outputId": "d5ff121e-771c-4490-8763-627d2166058e"
      },
      "source": [
        "#토큰화\n",
        "tokenizer = get_tokenizer()\n",
        "tok = nlp.data.BERTSPTokenizer(tokenizer, vocab, lower=False)\n",
        "\n",
        "data_train = BERTDataset(dataset_train, 0, 1, tok, max_len, True, False)\n",
        "data_test = BERTDataset(dataset_test, 0, 1, tok, max_len, True, False)"
      ],
      "execution_count": null,
      "outputs": [
        {
          "output_type": "stream",
          "name": "stdout",
          "text": [
            "using cached model\n"
          ]
        }
      ]
    },
    {
      "cell_type": "code",
      "metadata": {
        "colab": {
          "base_uri": "https://localhost:8080/"
        },
        "id": "ZxV97d3hB80u",
        "outputId": "6cec166a-7086-4c98-ec3c-1eba61509b73"
      },
      "source": [
        "# 첫번째는 패딩된 시퀀스, 두번째는 길이와 티입, 세번째는 어텐션 마스크 시퀀스\n",
        "data_train[0]"
      ],
      "execution_count": null,
      "outputs": [
        {
          "output_type": "execute_result",
          "data": {
            "text/plain": [
              "(array([   2, 2145,  517,  463, 1138, 6559, 4700, 4155, 5655, 2145,  517,\n",
              "         463, 3223, 1316, 7728, 6903,    3,    1,    1,    1,    1,    1,\n",
              "           1,    1,    1,    1,    1,    1,    1,    1,    1,    1,    1,\n",
              "           1,    1,    1,    1,    1,    1,    1,    1,    1,    1,    1,\n",
              "           1,    1,    1,    1,    1,    1,    1,    1,    1,    1,    1,\n",
              "           1,    1,    1,    1,    1,    1,    1,    1,    1], dtype=int32),\n",
              " array(17, dtype=int32),\n",
              " array([0, 0, 0, 0, 0, 0, 0, 0, 0, 0, 0, 0, 0, 0, 0, 0, 0, 0, 0, 0, 0, 0,\n",
              "        0, 0, 0, 0, 0, 0, 0, 0, 0, 0, 0, 0, 0, 0, 0, 0, 0, 0, 0, 0, 0, 0,\n",
              "        0, 0, 0, 0, 0, 0, 0, 0, 0, 0, 0, 0, 0, 0, 0, 0, 0, 0, 0, 0],\n",
              "       dtype=int32),\n",
              " 4)"
            ]
          },
          "metadata": {},
          "execution_count": 21
        }
      ]
    },
    {
      "cell_type": "code",
      "metadata": {
        "id": "oVg2uv42CE8U"
      },
      "source": [
        "train_dataloader = torch.utils.data.DataLoader(data_train, batch_size=batch_size, num_workers=5)\n",
        "test_dataloader = torch.utils.data.DataLoader(data_test, batch_size=batch_size, num_workers=5)"
      ],
      "execution_count": null,
      "outputs": []
    },
    {
      "cell_type": "markdown",
      "metadata": {
        "id": "RKyot_LGCHHx"
      },
      "source": [
        "#KoBERT 학습모델 만들기#"
      ]
    },
    {
      "cell_type": "code",
      "metadata": {
        "id": "LSZ_QCKLCKnG"
      },
      "source": [
        "class BERTClassifier(nn.Module):\n",
        "    def __init__(self,\n",
        "                 bert,\n",
        "                 hidden_size = 768,\n",
        "                 num_classes=7,   ##클래스 수 조정##\n",
        "                 dr_rate=None,\n",
        "                 params=None):\n",
        "        super(BERTClassifier, self).__init__()\n",
        "        self.bert = bert\n",
        "        self.dr_rate = dr_rate\n",
        "                 \n",
        "        self.classifier = nn.Linear(hidden_size , num_classes)\n",
        "        if dr_rate:\n",
        "            self.dropout = nn.Dropout(p=dr_rate)\n",
        "    \n",
        "    def gen_attention_mask(self, token_ids, valid_length):\n",
        "        attention_mask = torch.zeros_like(token_ids)\n",
        "        for i, v in enumerate(valid_length):\n",
        "            attention_mask[i][:v] = 1\n",
        "        return attention_mask.float()\n",
        "\n",
        "    def forward(self, token_ids, valid_length, segment_ids):\n",
        "        attention_mask = self.gen_attention_mask(token_ids, valid_length)\n",
        "        \n",
        "        _, pooler = self.bert(input_ids = token_ids, token_type_ids = segment_ids.long(), attention_mask = attention_mask.float().to(token_ids.device))\n",
        "        if self.dr_rate:\n",
        "            out = self.dropout(pooler)\n",
        "        return self.classifier(out)"
      ],
      "execution_count": null,
      "outputs": []
    },
    {
      "cell_type": "code",
      "metadata": {
        "id": "zmHD9DjwCMn_",
        "colab": {
          "base_uri": "https://localhost:8080/",
          "height": 394
        },
        "outputId": "72d52fd4-9e14-4de4-c42d-3d890d827a12"
      },
      "source": [
        "#BERT 모델 불러오기\n",
        "model = BERTClassifier(bertmodel,  dr_rate=0.5).to(device)\n",
        "\n",
        "#optimizer와 schedule 설정\n",
        "no_decay = ['bias', 'LayerNorm.weight']\n",
        "optimizer_grouped_parameters = [\n",
        "    {'params': [p for n, p in model.named_parameters() if not any(nd in n for nd in no_decay)], 'weight_decay': 0.01},\n",
        "    {'params': [p for n, p in model.named_parameters() if any(nd in n for nd in no_decay)], 'weight_decay': 0.0}\n",
        "]\n",
        "\n",
        "optimizer = AdamW(optimizer_grouped_parameters, lr=learning_rate)\n",
        "loss_fn = nn.CrossEntropyLoss()\n",
        "\n",
        "t_total = len(train_dataloader) * num_epochs\n",
        "warmup_step = int(t_total * warmup_ratio)\n",
        "\n",
        "scheduler = get_cosine_schedule_with_warmup(optimizer, num_warmup_steps=warmup_step, num_training_steps=t_total)\n",
        "\n",
        "#정확도 측정을 위한 함수 정의\n",
        "def calc_accuracy(X,Y):\n",
        "    max_vals, max_indices = torch.max(X, 1)\n",
        "    train_acc = (max_indices == Y).sum().data.cpu().numpy()/max_indices.size()[0]\n",
        "    return train_acc\n",
        "    \n",
        "train_dataloader"
      ],
      "execution_count": null,
      "outputs": [
        {
          "output_type": "error",
          "ename": "RuntimeError",
          "evalue": "ignored",
          "traceback": [
            "\u001b[0;31m---------------------------------------------------------------------------\u001b[0m",
            "\u001b[0;31mRuntimeError\u001b[0m                              Traceback (most recent call last)",
            "\u001b[0;32m<ipython-input-24-0362e707f6d0>\u001b[0m in \u001b[0;36m<module>\u001b[0;34m()\u001b[0m\n\u001b[1;32m      1\u001b[0m \u001b[0;31m#BERT 모델 불러오기\u001b[0m\u001b[0;34m\u001b[0m\u001b[0;34m\u001b[0m\u001b[0;34m\u001b[0m\u001b[0m\n\u001b[0;32m----> 2\u001b[0;31m \u001b[0mmodel\u001b[0m \u001b[0;34m=\u001b[0m \u001b[0mBERTClassifier\u001b[0m\u001b[0;34m(\u001b[0m\u001b[0mbertmodel\u001b[0m\u001b[0;34m,\u001b[0m  \u001b[0mdr_rate\u001b[0m\u001b[0;34m=\u001b[0m\u001b[0;36m0.5\u001b[0m\u001b[0;34m)\u001b[0m\u001b[0;34m.\u001b[0m\u001b[0mto\u001b[0m\u001b[0;34m(\u001b[0m\u001b[0mdevice\u001b[0m\u001b[0;34m)\u001b[0m\u001b[0;34m\u001b[0m\u001b[0;34m\u001b[0m\u001b[0m\n\u001b[0m\u001b[1;32m      3\u001b[0m \u001b[0;34m\u001b[0m\u001b[0m\n\u001b[1;32m      4\u001b[0m \u001b[0;31m#optimizer와 schedule 설정\u001b[0m\u001b[0;34m\u001b[0m\u001b[0;34m\u001b[0m\u001b[0;34m\u001b[0m\u001b[0m\n\u001b[1;32m      5\u001b[0m \u001b[0mno_decay\u001b[0m \u001b[0;34m=\u001b[0m \u001b[0;34m[\u001b[0m\u001b[0;34m'bias'\u001b[0m\u001b[0;34m,\u001b[0m \u001b[0;34m'LayerNorm.weight'\u001b[0m\u001b[0;34m]\u001b[0m\u001b[0;34m\u001b[0m\u001b[0;34m\u001b[0m\u001b[0m\n",
            "\u001b[0;32m/usr/local/lib/python3.7/dist-packages/torch/nn/modules/module.py\u001b[0m in \u001b[0;36mto\u001b[0;34m(self, *args, **kwargs)\u001b[0m\n\u001b[1;32m    850\u001b[0m             \u001b[0;32mreturn\u001b[0m \u001b[0mt\u001b[0m\u001b[0;34m.\u001b[0m\u001b[0mto\u001b[0m\u001b[0;34m(\u001b[0m\u001b[0mdevice\u001b[0m\u001b[0;34m,\u001b[0m \u001b[0mdtype\u001b[0m \u001b[0;32mif\u001b[0m \u001b[0mt\u001b[0m\u001b[0;34m.\u001b[0m\u001b[0mis_floating_point\u001b[0m\u001b[0;34m(\u001b[0m\u001b[0;34m)\u001b[0m \u001b[0;32mor\u001b[0m \u001b[0mt\u001b[0m\u001b[0;34m.\u001b[0m\u001b[0mis_complex\u001b[0m\u001b[0;34m(\u001b[0m\u001b[0;34m)\u001b[0m \u001b[0;32melse\u001b[0m \u001b[0;32mNone\u001b[0m\u001b[0;34m,\u001b[0m \u001b[0mnon_blocking\u001b[0m\u001b[0;34m)\u001b[0m\u001b[0;34m\u001b[0m\u001b[0;34m\u001b[0m\u001b[0m\n\u001b[1;32m    851\u001b[0m \u001b[0;34m\u001b[0m\u001b[0m\n\u001b[0;32m--> 852\u001b[0;31m         \u001b[0;32mreturn\u001b[0m \u001b[0mself\u001b[0m\u001b[0;34m.\u001b[0m\u001b[0m_apply\u001b[0m\u001b[0;34m(\u001b[0m\u001b[0mconvert\u001b[0m\u001b[0;34m)\u001b[0m\u001b[0;34m\u001b[0m\u001b[0;34m\u001b[0m\u001b[0m\n\u001b[0m\u001b[1;32m    853\u001b[0m \u001b[0;34m\u001b[0m\u001b[0m\n\u001b[1;32m    854\u001b[0m     def register_backward_hook(\n",
            "\u001b[0;32m/usr/local/lib/python3.7/dist-packages/torch/nn/modules/module.py\u001b[0m in \u001b[0;36m_apply\u001b[0;34m(self, fn)\u001b[0m\n\u001b[1;32m    528\u001b[0m     \u001b[0;32mdef\u001b[0m \u001b[0m_apply\u001b[0m\u001b[0;34m(\u001b[0m\u001b[0mself\u001b[0m\u001b[0;34m,\u001b[0m \u001b[0mfn\u001b[0m\u001b[0;34m)\u001b[0m\u001b[0;34m:\u001b[0m\u001b[0;34m\u001b[0m\u001b[0;34m\u001b[0m\u001b[0m\n\u001b[1;32m    529\u001b[0m         \u001b[0;32mfor\u001b[0m \u001b[0mmodule\u001b[0m \u001b[0;32min\u001b[0m \u001b[0mself\u001b[0m\u001b[0;34m.\u001b[0m\u001b[0mchildren\u001b[0m\u001b[0;34m(\u001b[0m\u001b[0;34m)\u001b[0m\u001b[0;34m:\u001b[0m\u001b[0;34m\u001b[0m\u001b[0;34m\u001b[0m\u001b[0m\n\u001b[0;32m--> 530\u001b[0;31m             \u001b[0mmodule\u001b[0m\u001b[0;34m.\u001b[0m\u001b[0m_apply\u001b[0m\u001b[0;34m(\u001b[0m\u001b[0mfn\u001b[0m\u001b[0;34m)\u001b[0m\u001b[0;34m\u001b[0m\u001b[0;34m\u001b[0m\u001b[0m\n\u001b[0m\u001b[1;32m    531\u001b[0m \u001b[0;34m\u001b[0m\u001b[0m\n\u001b[1;32m    532\u001b[0m         \u001b[0;32mdef\u001b[0m \u001b[0mcompute_should_use_set_data\u001b[0m\u001b[0;34m(\u001b[0m\u001b[0mtensor\u001b[0m\u001b[0;34m,\u001b[0m \u001b[0mtensor_applied\u001b[0m\u001b[0;34m)\u001b[0m\u001b[0;34m:\u001b[0m\u001b[0;34m\u001b[0m\u001b[0;34m\u001b[0m\u001b[0m\n",
            "\u001b[0;32m/usr/local/lib/python3.7/dist-packages/torch/nn/modules/module.py\u001b[0m in \u001b[0;36m_apply\u001b[0;34m(self, fn)\u001b[0m\n\u001b[1;32m    528\u001b[0m     \u001b[0;32mdef\u001b[0m \u001b[0m_apply\u001b[0m\u001b[0;34m(\u001b[0m\u001b[0mself\u001b[0m\u001b[0;34m,\u001b[0m \u001b[0mfn\u001b[0m\u001b[0;34m)\u001b[0m\u001b[0;34m:\u001b[0m\u001b[0;34m\u001b[0m\u001b[0;34m\u001b[0m\u001b[0m\n\u001b[1;32m    529\u001b[0m         \u001b[0;32mfor\u001b[0m \u001b[0mmodule\u001b[0m \u001b[0;32min\u001b[0m \u001b[0mself\u001b[0m\u001b[0;34m.\u001b[0m\u001b[0mchildren\u001b[0m\u001b[0;34m(\u001b[0m\u001b[0;34m)\u001b[0m\u001b[0;34m:\u001b[0m\u001b[0;34m\u001b[0m\u001b[0;34m\u001b[0m\u001b[0m\n\u001b[0;32m--> 530\u001b[0;31m             \u001b[0mmodule\u001b[0m\u001b[0;34m.\u001b[0m\u001b[0m_apply\u001b[0m\u001b[0;34m(\u001b[0m\u001b[0mfn\u001b[0m\u001b[0;34m)\u001b[0m\u001b[0;34m\u001b[0m\u001b[0;34m\u001b[0m\u001b[0m\n\u001b[0m\u001b[1;32m    531\u001b[0m \u001b[0;34m\u001b[0m\u001b[0m\n\u001b[1;32m    532\u001b[0m         \u001b[0;32mdef\u001b[0m \u001b[0mcompute_should_use_set_data\u001b[0m\u001b[0;34m(\u001b[0m\u001b[0mtensor\u001b[0m\u001b[0;34m,\u001b[0m \u001b[0mtensor_applied\u001b[0m\u001b[0;34m)\u001b[0m\u001b[0;34m:\u001b[0m\u001b[0;34m\u001b[0m\u001b[0;34m\u001b[0m\u001b[0m\n",
            "\u001b[0;32m/usr/local/lib/python3.7/dist-packages/torch/nn/modules/module.py\u001b[0m in \u001b[0;36m_apply\u001b[0;34m(self, fn)\u001b[0m\n\u001b[1;32m    528\u001b[0m     \u001b[0;32mdef\u001b[0m \u001b[0m_apply\u001b[0m\u001b[0;34m(\u001b[0m\u001b[0mself\u001b[0m\u001b[0;34m,\u001b[0m \u001b[0mfn\u001b[0m\u001b[0;34m)\u001b[0m\u001b[0;34m:\u001b[0m\u001b[0;34m\u001b[0m\u001b[0;34m\u001b[0m\u001b[0m\n\u001b[1;32m    529\u001b[0m         \u001b[0;32mfor\u001b[0m \u001b[0mmodule\u001b[0m \u001b[0;32min\u001b[0m \u001b[0mself\u001b[0m\u001b[0;34m.\u001b[0m\u001b[0mchildren\u001b[0m\u001b[0;34m(\u001b[0m\u001b[0;34m)\u001b[0m\u001b[0;34m:\u001b[0m\u001b[0;34m\u001b[0m\u001b[0;34m\u001b[0m\u001b[0m\n\u001b[0;32m--> 530\u001b[0;31m             \u001b[0mmodule\u001b[0m\u001b[0;34m.\u001b[0m\u001b[0m_apply\u001b[0m\u001b[0;34m(\u001b[0m\u001b[0mfn\u001b[0m\u001b[0;34m)\u001b[0m\u001b[0;34m\u001b[0m\u001b[0;34m\u001b[0m\u001b[0m\n\u001b[0m\u001b[1;32m    531\u001b[0m \u001b[0;34m\u001b[0m\u001b[0m\n\u001b[1;32m    532\u001b[0m         \u001b[0;32mdef\u001b[0m \u001b[0mcompute_should_use_set_data\u001b[0m\u001b[0;34m(\u001b[0m\u001b[0mtensor\u001b[0m\u001b[0;34m,\u001b[0m \u001b[0mtensor_applied\u001b[0m\u001b[0;34m)\u001b[0m\u001b[0;34m:\u001b[0m\u001b[0;34m\u001b[0m\u001b[0;34m\u001b[0m\u001b[0m\n",
            "\u001b[0;32m/usr/local/lib/python3.7/dist-packages/torch/nn/modules/module.py\u001b[0m in \u001b[0;36m_apply\u001b[0;34m(self, fn)\u001b[0m\n\u001b[1;32m    550\u001b[0m                 \u001b[0;31m# `with torch.no_grad():`\u001b[0m\u001b[0;34m\u001b[0m\u001b[0;34m\u001b[0m\u001b[0;34m\u001b[0m\u001b[0m\n\u001b[1;32m    551\u001b[0m                 \u001b[0;32mwith\u001b[0m \u001b[0mtorch\u001b[0m\u001b[0;34m.\u001b[0m\u001b[0mno_grad\u001b[0m\u001b[0;34m(\u001b[0m\u001b[0;34m)\u001b[0m\u001b[0;34m:\u001b[0m\u001b[0;34m\u001b[0m\u001b[0;34m\u001b[0m\u001b[0m\n\u001b[0;32m--> 552\u001b[0;31m                     \u001b[0mparam_applied\u001b[0m \u001b[0;34m=\u001b[0m \u001b[0mfn\u001b[0m\u001b[0;34m(\u001b[0m\u001b[0mparam\u001b[0m\u001b[0;34m)\u001b[0m\u001b[0;34m\u001b[0m\u001b[0;34m\u001b[0m\u001b[0m\n\u001b[0m\u001b[1;32m    553\u001b[0m                 \u001b[0mshould_use_set_data\u001b[0m \u001b[0;34m=\u001b[0m \u001b[0mcompute_should_use_set_data\u001b[0m\u001b[0;34m(\u001b[0m\u001b[0mparam\u001b[0m\u001b[0;34m,\u001b[0m \u001b[0mparam_applied\u001b[0m\u001b[0;34m)\u001b[0m\u001b[0;34m\u001b[0m\u001b[0;34m\u001b[0m\u001b[0m\n\u001b[1;32m    554\u001b[0m                 \u001b[0;32mif\u001b[0m \u001b[0mshould_use_set_data\u001b[0m\u001b[0;34m:\u001b[0m\u001b[0;34m\u001b[0m\u001b[0;34m\u001b[0m\u001b[0m\n",
            "\u001b[0;32m/usr/local/lib/python3.7/dist-packages/torch/nn/modules/module.py\u001b[0m in \u001b[0;36mconvert\u001b[0;34m(t)\u001b[0m\n\u001b[1;32m    848\u001b[0m                 return t.to(device, dtype if t.is_floating_point() or t.is_complex() else None,\n\u001b[1;32m    849\u001b[0m                             non_blocking, memory_format=convert_to_format)\n\u001b[0;32m--> 850\u001b[0;31m             \u001b[0;32mreturn\u001b[0m \u001b[0mt\u001b[0m\u001b[0;34m.\u001b[0m\u001b[0mto\u001b[0m\u001b[0;34m(\u001b[0m\u001b[0mdevice\u001b[0m\u001b[0;34m,\u001b[0m \u001b[0mdtype\u001b[0m \u001b[0;32mif\u001b[0m \u001b[0mt\u001b[0m\u001b[0;34m.\u001b[0m\u001b[0mis_floating_point\u001b[0m\u001b[0;34m(\u001b[0m\u001b[0;34m)\u001b[0m \u001b[0;32mor\u001b[0m \u001b[0mt\u001b[0m\u001b[0;34m.\u001b[0m\u001b[0mis_complex\u001b[0m\u001b[0;34m(\u001b[0m\u001b[0;34m)\u001b[0m \u001b[0;32melse\u001b[0m \u001b[0;32mNone\u001b[0m\u001b[0;34m,\u001b[0m \u001b[0mnon_blocking\u001b[0m\u001b[0;34m)\u001b[0m\u001b[0;34m\u001b[0m\u001b[0;34m\u001b[0m\u001b[0m\n\u001b[0m\u001b[1;32m    851\u001b[0m \u001b[0;34m\u001b[0m\u001b[0m\n\u001b[1;32m    852\u001b[0m         \u001b[0;32mreturn\u001b[0m \u001b[0mself\u001b[0m\u001b[0;34m.\u001b[0m\u001b[0m_apply\u001b[0m\u001b[0;34m(\u001b[0m\u001b[0mconvert\u001b[0m\u001b[0;34m)\u001b[0m\u001b[0;34m\u001b[0m\u001b[0;34m\u001b[0m\u001b[0m\n",
            "\u001b[0;32m/usr/local/lib/python3.7/dist-packages/torch/cuda/__init__.py\u001b[0m in \u001b[0;36m_lazy_init\u001b[0;34m()\u001b[0m\n\u001b[1;32m    170\u001b[0m         \u001b[0;31m# This function throws if there's a driver initialization error, no GPUs\u001b[0m\u001b[0;34m\u001b[0m\u001b[0;34m\u001b[0m\u001b[0;34m\u001b[0m\u001b[0m\n\u001b[1;32m    171\u001b[0m         \u001b[0;31m# are found or any other error occurs\u001b[0m\u001b[0;34m\u001b[0m\u001b[0;34m\u001b[0m\u001b[0;34m\u001b[0m\u001b[0m\n\u001b[0;32m--> 172\u001b[0;31m         \u001b[0mtorch\u001b[0m\u001b[0;34m.\u001b[0m\u001b[0m_C\u001b[0m\u001b[0;34m.\u001b[0m\u001b[0m_cuda_init\u001b[0m\u001b[0;34m(\u001b[0m\u001b[0;34m)\u001b[0m\u001b[0;34m\u001b[0m\u001b[0;34m\u001b[0m\u001b[0m\n\u001b[0m\u001b[1;32m    173\u001b[0m         \u001b[0;31m# Some of the queued calls may reentrantly call _lazy_init();\u001b[0m\u001b[0;34m\u001b[0m\u001b[0;34m\u001b[0m\u001b[0;34m\u001b[0m\u001b[0m\n\u001b[1;32m    174\u001b[0m         \u001b[0;31m# we need to just return without initializing in that case.\u001b[0m\u001b[0;34m\u001b[0m\u001b[0;34m\u001b[0m\u001b[0;34m\u001b[0m\u001b[0m\n",
            "\u001b[0;31mRuntimeError\u001b[0m: No CUDA GPUs are available"
          ]
        }
      ]
    },
    {
      "cell_type": "markdown",
      "metadata": {
        "id": "9ML2sTd9CN0d"
      },
      "source": [
        "#KoBERT 모델 학습시키기#"
      ]
    },
    {
      "cell_type": "code",
      "metadata": {
        "id": "-DP_gmAZCRMf"
      },
      "source": [
        "for e in range(num_epochs):\n",
        "    train_acc = 0.0\n",
        "    test_acc = 0.0\n",
        "    model.train()\n",
        "    for batch_id, (token_ids, valid_length, segment_ids, label) in enumerate(tqdm_notebook(train_dataloader)):\n",
        "        optimizer.zero_grad()\n",
        "        token_ids = token_ids.long().to(device)\n",
        "        segment_ids = segment_ids.long().to(device)\n",
        "        valid_length= valid_length\n",
        "        label = label.long().to(device)\n",
        "        out = model(token_ids, valid_length, segment_ids)\n",
        "        loss = loss_fn(out, label)\n",
        "        loss.backward()\n",
        "        torch.nn.utils.clip_grad_norm_(model.parameters(), max_grad_norm)\n",
        "        optimizer.step()\n",
        "        scheduler.step()  # Update learning rate schedule\n",
        "        train_acc += calc_accuracy(out, label)\n",
        "        if batch_id % log_interval == 0:\n",
        "            print(\"epoch {} batch id {} loss {} train acc {}\".format(e+1, batch_id+1, loss.data.cpu().numpy(), train_acc / (batch_id+1)))\n",
        "    print(\"epoch {} train acc {}\".format(e+1, train_acc / (batch_id+1)))\n",
        "    \n",
        "    model.eval()\n",
        "    for batch_id, (token_ids, valid_length, segment_ids, label) in enumerate(tqdm_notebook(test_dataloader)):\n",
        "        token_ids = token_ids.long().to(device)\n",
        "        segment_ids = segment_ids.long().to(device)\n",
        "        valid_length= valid_length\n",
        "        label = label.long().to(device)\n",
        "        out = model(token_ids, valid_length, segment_ids)\n",
        "        test_acc += calc_accuracy(out, label)\n",
        "    print(\"epoch {} test acc {}\".format(e+1, test_acc / (batch_id+1)))"
      ],
      "execution_count": null,
      "outputs": []
    },
    {
      "cell_type": "code",
      "metadata": {
        "id": "cYg7bClGLVJY"
      },
      "source": [
        "SAVEPOINT_PATH = '/content/drive/MyDrive/KAIST/SEP531/KoBERT_small_std_data.pt'"
      ],
      "execution_count": null,
      "outputs": []
    },
    {
      "cell_type": "code",
      "metadata": {
        "id": "dO97BB2XHS6a"
      },
      "source": [
        "torch.save(model.state_dict(), SAVEPOINT_PATH)"
      ],
      "execution_count": null,
      "outputs": []
    },
    {
      "cell_type": "markdown",
      "metadata": {
        "id": "PH_DSjp7CXW9"
      },
      "source": [
        "#새로운 문장 테스트#"
      ]
    },
    {
      "cell_type": "markdown",
      "metadata": {
        "id": "zowlRfd3Cduu"
      },
      "source": [
        "새로운 문장을 테스트 할 때, 입력되는 문장을 KoBERT의 입력 형식으로 바꿔주는 코드를 작성해주어야 한다. 아래 코드를 작성하여 토큰화, 패딩, 텐서를 바꿔주고 예측을 하는 'predict' 함수를 만들어 주었다."
      ]
    },
    {
      "cell_type": "code",
      "metadata": {
        "id": "9G2xmfpLIMFY"
      },
      "source": [
        "#GPU 사용\n",
        "device = torch.device(\"cuda:0\")"
      ],
      "execution_count": null,
      "outputs": []
    },
    {
      "cell_type": "code",
      "metadata": {
        "id": "MZrogz3sIIne",
        "colab": {
          "base_uri": "https://localhost:8080/"
        },
        "outputId": "abbf6909-9ed2-4171-d6ac-a04a951d50b9"
      },
      "source": [
        "#BERT 모델, Vocabulary 불러오기\n",
        "bertmodel, vocab = get_pytorch_kobert_model()"
      ],
      "execution_count": null,
      "outputs": [
        {
          "output_type": "stream",
          "name": "stdout",
          "text": [
            "using cached model\n",
            "using cached model\n"
          ]
        }
      ]
    },
    {
      "cell_type": "code",
      "metadata": {
        "colab": {
          "base_uri": "https://localhost:8080/"
        },
        "id": "Z-Mlpc2DHjXb",
        "outputId": "d26b1b67-2888-4356-d910-fdfeff22ca47"
      },
      "source": [
        "model1 = BERTClassifier(bertmodel,  dr_rate=0.5).to(device)\n",
        "model1.load_state_dict(torch.load(SAVEPOINT_PATH))\n",
        "model1.eval()"
      ],
      "execution_count": null,
      "outputs": [
        {
          "output_type": "execute_result",
          "data": {
            "text/plain": [
              "BERTClassifier(\n",
              "  (bert): BertModel(\n",
              "    (embeddings): BertEmbeddings(\n",
              "      (word_embeddings): Embedding(8002, 768, padding_idx=1)\n",
              "      (position_embeddings): Embedding(512, 768)\n",
              "      (token_type_embeddings): Embedding(2, 768)\n",
              "      (LayerNorm): LayerNorm((768,), eps=1e-12, elementwise_affine=True)\n",
              "      (dropout): Dropout(p=0.1, inplace=False)\n",
              "    )\n",
              "    (encoder): BertEncoder(\n",
              "      (layer): ModuleList(\n",
              "        (0): BertLayer(\n",
              "          (attention): BertAttention(\n",
              "            (self): BertSelfAttention(\n",
              "              (query): Linear(in_features=768, out_features=768, bias=True)\n",
              "              (key): Linear(in_features=768, out_features=768, bias=True)\n",
              "              (value): Linear(in_features=768, out_features=768, bias=True)\n",
              "              (dropout): Dropout(p=0.1, inplace=False)\n",
              "            )\n",
              "            (output): BertSelfOutput(\n",
              "              (dense): Linear(in_features=768, out_features=768, bias=True)\n",
              "              (LayerNorm): LayerNorm((768,), eps=1e-12, elementwise_affine=True)\n",
              "              (dropout): Dropout(p=0.1, inplace=False)\n",
              "            )\n",
              "          )\n",
              "          (intermediate): BertIntermediate(\n",
              "            (dense): Linear(in_features=768, out_features=3072, bias=True)\n",
              "          )\n",
              "          (output): BertOutput(\n",
              "            (dense): Linear(in_features=3072, out_features=768, bias=True)\n",
              "            (LayerNorm): LayerNorm((768,), eps=1e-12, elementwise_affine=True)\n",
              "            (dropout): Dropout(p=0.1, inplace=False)\n",
              "          )\n",
              "        )\n",
              "        (1): BertLayer(\n",
              "          (attention): BertAttention(\n",
              "            (self): BertSelfAttention(\n",
              "              (query): Linear(in_features=768, out_features=768, bias=True)\n",
              "              (key): Linear(in_features=768, out_features=768, bias=True)\n",
              "              (value): Linear(in_features=768, out_features=768, bias=True)\n",
              "              (dropout): Dropout(p=0.1, inplace=False)\n",
              "            )\n",
              "            (output): BertSelfOutput(\n",
              "              (dense): Linear(in_features=768, out_features=768, bias=True)\n",
              "              (LayerNorm): LayerNorm((768,), eps=1e-12, elementwise_affine=True)\n",
              "              (dropout): Dropout(p=0.1, inplace=False)\n",
              "            )\n",
              "          )\n",
              "          (intermediate): BertIntermediate(\n",
              "            (dense): Linear(in_features=768, out_features=3072, bias=True)\n",
              "          )\n",
              "          (output): BertOutput(\n",
              "            (dense): Linear(in_features=3072, out_features=768, bias=True)\n",
              "            (LayerNorm): LayerNorm((768,), eps=1e-12, elementwise_affine=True)\n",
              "            (dropout): Dropout(p=0.1, inplace=False)\n",
              "          )\n",
              "        )\n",
              "        (2): BertLayer(\n",
              "          (attention): BertAttention(\n",
              "            (self): BertSelfAttention(\n",
              "              (query): Linear(in_features=768, out_features=768, bias=True)\n",
              "              (key): Linear(in_features=768, out_features=768, bias=True)\n",
              "              (value): Linear(in_features=768, out_features=768, bias=True)\n",
              "              (dropout): Dropout(p=0.1, inplace=False)\n",
              "            )\n",
              "            (output): BertSelfOutput(\n",
              "              (dense): Linear(in_features=768, out_features=768, bias=True)\n",
              "              (LayerNorm): LayerNorm((768,), eps=1e-12, elementwise_affine=True)\n",
              "              (dropout): Dropout(p=0.1, inplace=False)\n",
              "            )\n",
              "          )\n",
              "          (intermediate): BertIntermediate(\n",
              "            (dense): Linear(in_features=768, out_features=3072, bias=True)\n",
              "          )\n",
              "          (output): BertOutput(\n",
              "            (dense): Linear(in_features=3072, out_features=768, bias=True)\n",
              "            (LayerNorm): LayerNorm((768,), eps=1e-12, elementwise_affine=True)\n",
              "            (dropout): Dropout(p=0.1, inplace=False)\n",
              "          )\n",
              "        )\n",
              "        (3): BertLayer(\n",
              "          (attention): BertAttention(\n",
              "            (self): BertSelfAttention(\n",
              "              (query): Linear(in_features=768, out_features=768, bias=True)\n",
              "              (key): Linear(in_features=768, out_features=768, bias=True)\n",
              "              (value): Linear(in_features=768, out_features=768, bias=True)\n",
              "              (dropout): Dropout(p=0.1, inplace=False)\n",
              "            )\n",
              "            (output): BertSelfOutput(\n",
              "              (dense): Linear(in_features=768, out_features=768, bias=True)\n",
              "              (LayerNorm): LayerNorm((768,), eps=1e-12, elementwise_affine=True)\n",
              "              (dropout): Dropout(p=0.1, inplace=False)\n",
              "            )\n",
              "          )\n",
              "          (intermediate): BertIntermediate(\n",
              "            (dense): Linear(in_features=768, out_features=3072, bias=True)\n",
              "          )\n",
              "          (output): BertOutput(\n",
              "            (dense): Linear(in_features=3072, out_features=768, bias=True)\n",
              "            (LayerNorm): LayerNorm((768,), eps=1e-12, elementwise_affine=True)\n",
              "            (dropout): Dropout(p=0.1, inplace=False)\n",
              "          )\n",
              "        )\n",
              "        (4): BertLayer(\n",
              "          (attention): BertAttention(\n",
              "            (self): BertSelfAttention(\n",
              "              (query): Linear(in_features=768, out_features=768, bias=True)\n",
              "              (key): Linear(in_features=768, out_features=768, bias=True)\n",
              "              (value): Linear(in_features=768, out_features=768, bias=True)\n",
              "              (dropout): Dropout(p=0.1, inplace=False)\n",
              "            )\n",
              "            (output): BertSelfOutput(\n",
              "              (dense): Linear(in_features=768, out_features=768, bias=True)\n",
              "              (LayerNorm): LayerNorm((768,), eps=1e-12, elementwise_affine=True)\n",
              "              (dropout): Dropout(p=0.1, inplace=False)\n",
              "            )\n",
              "          )\n",
              "          (intermediate): BertIntermediate(\n",
              "            (dense): Linear(in_features=768, out_features=3072, bias=True)\n",
              "          )\n",
              "          (output): BertOutput(\n",
              "            (dense): Linear(in_features=3072, out_features=768, bias=True)\n",
              "            (LayerNorm): LayerNorm((768,), eps=1e-12, elementwise_affine=True)\n",
              "            (dropout): Dropout(p=0.1, inplace=False)\n",
              "          )\n",
              "        )\n",
              "        (5): BertLayer(\n",
              "          (attention): BertAttention(\n",
              "            (self): BertSelfAttention(\n",
              "              (query): Linear(in_features=768, out_features=768, bias=True)\n",
              "              (key): Linear(in_features=768, out_features=768, bias=True)\n",
              "              (value): Linear(in_features=768, out_features=768, bias=True)\n",
              "              (dropout): Dropout(p=0.1, inplace=False)\n",
              "            )\n",
              "            (output): BertSelfOutput(\n",
              "              (dense): Linear(in_features=768, out_features=768, bias=True)\n",
              "              (LayerNorm): LayerNorm((768,), eps=1e-12, elementwise_affine=True)\n",
              "              (dropout): Dropout(p=0.1, inplace=False)\n",
              "            )\n",
              "          )\n",
              "          (intermediate): BertIntermediate(\n",
              "            (dense): Linear(in_features=768, out_features=3072, bias=True)\n",
              "          )\n",
              "          (output): BertOutput(\n",
              "            (dense): Linear(in_features=3072, out_features=768, bias=True)\n",
              "            (LayerNorm): LayerNorm((768,), eps=1e-12, elementwise_affine=True)\n",
              "            (dropout): Dropout(p=0.1, inplace=False)\n",
              "          )\n",
              "        )\n",
              "        (6): BertLayer(\n",
              "          (attention): BertAttention(\n",
              "            (self): BertSelfAttention(\n",
              "              (query): Linear(in_features=768, out_features=768, bias=True)\n",
              "              (key): Linear(in_features=768, out_features=768, bias=True)\n",
              "              (value): Linear(in_features=768, out_features=768, bias=True)\n",
              "              (dropout): Dropout(p=0.1, inplace=False)\n",
              "            )\n",
              "            (output): BertSelfOutput(\n",
              "              (dense): Linear(in_features=768, out_features=768, bias=True)\n",
              "              (LayerNorm): LayerNorm((768,), eps=1e-12, elementwise_affine=True)\n",
              "              (dropout): Dropout(p=0.1, inplace=False)\n",
              "            )\n",
              "          )\n",
              "          (intermediate): BertIntermediate(\n",
              "            (dense): Linear(in_features=768, out_features=3072, bias=True)\n",
              "          )\n",
              "          (output): BertOutput(\n",
              "            (dense): Linear(in_features=3072, out_features=768, bias=True)\n",
              "            (LayerNorm): LayerNorm((768,), eps=1e-12, elementwise_affine=True)\n",
              "            (dropout): Dropout(p=0.1, inplace=False)\n",
              "          )\n",
              "        )\n",
              "        (7): BertLayer(\n",
              "          (attention): BertAttention(\n",
              "            (self): BertSelfAttention(\n",
              "              (query): Linear(in_features=768, out_features=768, bias=True)\n",
              "              (key): Linear(in_features=768, out_features=768, bias=True)\n",
              "              (value): Linear(in_features=768, out_features=768, bias=True)\n",
              "              (dropout): Dropout(p=0.1, inplace=False)\n",
              "            )\n",
              "            (output): BertSelfOutput(\n",
              "              (dense): Linear(in_features=768, out_features=768, bias=True)\n",
              "              (LayerNorm): LayerNorm((768,), eps=1e-12, elementwise_affine=True)\n",
              "              (dropout): Dropout(p=0.1, inplace=False)\n",
              "            )\n",
              "          )\n",
              "          (intermediate): BertIntermediate(\n",
              "            (dense): Linear(in_features=768, out_features=3072, bias=True)\n",
              "          )\n",
              "          (output): BertOutput(\n",
              "            (dense): Linear(in_features=3072, out_features=768, bias=True)\n",
              "            (LayerNorm): LayerNorm((768,), eps=1e-12, elementwise_affine=True)\n",
              "            (dropout): Dropout(p=0.1, inplace=False)\n",
              "          )\n",
              "        )\n",
              "        (8): BertLayer(\n",
              "          (attention): BertAttention(\n",
              "            (self): BertSelfAttention(\n",
              "              (query): Linear(in_features=768, out_features=768, bias=True)\n",
              "              (key): Linear(in_features=768, out_features=768, bias=True)\n",
              "              (value): Linear(in_features=768, out_features=768, bias=True)\n",
              "              (dropout): Dropout(p=0.1, inplace=False)\n",
              "            )\n",
              "            (output): BertSelfOutput(\n",
              "              (dense): Linear(in_features=768, out_features=768, bias=True)\n",
              "              (LayerNorm): LayerNorm((768,), eps=1e-12, elementwise_affine=True)\n",
              "              (dropout): Dropout(p=0.1, inplace=False)\n",
              "            )\n",
              "          )\n",
              "          (intermediate): BertIntermediate(\n",
              "            (dense): Linear(in_features=768, out_features=3072, bias=True)\n",
              "          )\n",
              "          (output): BertOutput(\n",
              "            (dense): Linear(in_features=3072, out_features=768, bias=True)\n",
              "            (LayerNorm): LayerNorm((768,), eps=1e-12, elementwise_affine=True)\n",
              "            (dropout): Dropout(p=0.1, inplace=False)\n",
              "          )\n",
              "        )\n",
              "        (9): BertLayer(\n",
              "          (attention): BertAttention(\n",
              "            (self): BertSelfAttention(\n",
              "              (query): Linear(in_features=768, out_features=768, bias=True)\n",
              "              (key): Linear(in_features=768, out_features=768, bias=True)\n",
              "              (value): Linear(in_features=768, out_features=768, bias=True)\n",
              "              (dropout): Dropout(p=0.1, inplace=False)\n",
              "            )\n",
              "            (output): BertSelfOutput(\n",
              "              (dense): Linear(in_features=768, out_features=768, bias=True)\n",
              "              (LayerNorm): LayerNorm((768,), eps=1e-12, elementwise_affine=True)\n",
              "              (dropout): Dropout(p=0.1, inplace=False)\n",
              "            )\n",
              "          )\n",
              "          (intermediate): BertIntermediate(\n",
              "            (dense): Linear(in_features=768, out_features=3072, bias=True)\n",
              "          )\n",
              "          (output): BertOutput(\n",
              "            (dense): Linear(in_features=3072, out_features=768, bias=True)\n",
              "            (LayerNorm): LayerNorm((768,), eps=1e-12, elementwise_affine=True)\n",
              "            (dropout): Dropout(p=0.1, inplace=False)\n",
              "          )\n",
              "        )\n",
              "        (10): BertLayer(\n",
              "          (attention): BertAttention(\n",
              "            (self): BertSelfAttention(\n",
              "              (query): Linear(in_features=768, out_features=768, bias=True)\n",
              "              (key): Linear(in_features=768, out_features=768, bias=True)\n",
              "              (value): Linear(in_features=768, out_features=768, bias=True)\n",
              "              (dropout): Dropout(p=0.1, inplace=False)\n",
              "            )\n",
              "            (output): BertSelfOutput(\n",
              "              (dense): Linear(in_features=768, out_features=768, bias=True)\n",
              "              (LayerNorm): LayerNorm((768,), eps=1e-12, elementwise_affine=True)\n",
              "              (dropout): Dropout(p=0.1, inplace=False)\n",
              "            )\n",
              "          )\n",
              "          (intermediate): BertIntermediate(\n",
              "            (dense): Linear(in_features=768, out_features=3072, bias=True)\n",
              "          )\n",
              "          (output): BertOutput(\n",
              "            (dense): Linear(in_features=3072, out_features=768, bias=True)\n",
              "            (LayerNorm): LayerNorm((768,), eps=1e-12, elementwise_affine=True)\n",
              "            (dropout): Dropout(p=0.1, inplace=False)\n",
              "          )\n",
              "        )\n",
              "        (11): BertLayer(\n",
              "          (attention): BertAttention(\n",
              "            (self): BertSelfAttention(\n",
              "              (query): Linear(in_features=768, out_features=768, bias=True)\n",
              "              (key): Linear(in_features=768, out_features=768, bias=True)\n",
              "              (value): Linear(in_features=768, out_features=768, bias=True)\n",
              "              (dropout): Dropout(p=0.1, inplace=False)\n",
              "            )\n",
              "            (output): BertSelfOutput(\n",
              "              (dense): Linear(in_features=768, out_features=768, bias=True)\n",
              "              (LayerNorm): LayerNorm((768,), eps=1e-12, elementwise_affine=True)\n",
              "              (dropout): Dropout(p=0.1, inplace=False)\n",
              "            )\n",
              "          )\n",
              "          (intermediate): BertIntermediate(\n",
              "            (dense): Linear(in_features=768, out_features=3072, bias=True)\n",
              "          )\n",
              "          (output): BertOutput(\n",
              "            (dense): Linear(in_features=3072, out_features=768, bias=True)\n",
              "            (LayerNorm): LayerNorm((768,), eps=1e-12, elementwise_affine=True)\n",
              "            (dropout): Dropout(p=0.1, inplace=False)\n",
              "          )\n",
              "        )\n",
              "      )\n",
              "    )\n",
              "    (pooler): BertPooler(\n",
              "      (dense): Linear(in_features=768, out_features=768, bias=True)\n",
              "      (activation): Tanh()\n",
              "    )\n",
              "  )\n",
              "  (classifier): Linear(in_features=768, out_features=7, bias=True)\n",
              "  (dropout): Dropout(p=0.5, inplace=False)\n",
              ")"
            ]
          },
          "metadata": {},
          "execution_count": 75
        }
      ]
    },
    {
      "cell_type": "code",
      "metadata": {
        "colab": {
          "base_uri": "https://localhost:8080/"
        },
        "id": "AAROeR5XCW0d",
        "outputId": "4c0e95fe-5aa6-4d93-fb98-aadaf3ea8f3f"
      },
      "source": [
        "#토큰화\n",
        "tokenizer = get_tokenizer()\n",
        "tok = nlp.data.BERTSPTokenizer(tokenizer, vocab, lower=False)\n",
        "\n",
        "def predict(predict_sentence):\n",
        "\n",
        "    data = [predict_sentence, '0']\n",
        "    dataset_another = [data]\n",
        "\n",
        "    another_test = BERTDataset(dataset_another, 0, 1, tok, max_len, True, False)\n",
        "    test_dataloader = torch.utils.data.DataLoader(another_test, batch_size=batch_size, num_workers=5)\n",
        "    \n",
        "    model1.eval()\n",
        "\n",
        "    for batch_id, (token_ids, valid_length, segment_ids, label) in enumerate(test_dataloader):\n",
        "        token_ids = token_ids.long().to(device)\n",
        "        segment_ids = segment_ids.long().to(device)\n",
        "\n",
        "        valid_length= valid_length\n",
        "        label = label.long().to(device)\n",
        "\n",
        "        out = model1(token_ids, valid_length, segment_ids)\n",
        "\n",
        "\n",
        "        test_eval=[]\n",
        "        for i in out:\n",
        "            logits=i\n",
        "            logits = logits.detach().cpu().numpy()\n",
        "\n",
        "            if np.argmax(logits) == 0:\n",
        "                test_eval.append(\"공포가\")\n",
        "            elif np.argmax(logits) == 1:\n",
        "                test_eval.append(\"놀람이\")\n",
        "            elif np.argmax(logits) == 2:\n",
        "                test_eval.append(\"분노가\")\n",
        "            elif np.argmax(logits) == 3:\n",
        "                test_eval.append(\"슬픔이\")\n",
        "            elif np.argmax(logits) == 4:\n",
        "                test_eval.append(\"중립이\")\n",
        "            elif np.argmax(logits) == 5:\n",
        "                test_eval.append(\"행복이\")\n",
        "            elif np.argmax(logits) == 6:\n",
        "                test_eval.append(\"혐오가\")\n",
        "\n",
        "        print(\">> 입력하신 내용에서 \" + test_eval[0] + \" 느껴집니다.\")"
      ],
      "execution_count": null,
      "outputs": [
        {
          "output_type": "stream",
          "name": "stdout",
          "text": [
            "using cached model\n"
          ]
        }
      ]
    },
    {
      "cell_type": "code",
      "metadata": {
        "colab": {
          "base_uri": "https://localhost:8080/",
          "height": 828
        },
        "id": "WNog9WAcCgV0",
        "outputId": "4df70a0e-a29e-4855-ef94-097c97b55667"
      },
      "source": [
        "#질문 무한반복하기! 0 입력시 종료\n",
        "end = 1\n",
        "while end == 1 :\n",
        "    sentence = input(\"하고싶은 말을 입력해주세요 : \")\n",
        "    if sentence == '종료' :\n",
        "        break\n",
        "    predict(sentence)\n",
        "    print(\"\\n\")"
      ],
      "execution_count": null,
      "outputs": [
        {
          "name": "stdout",
          "output_type": "stream",
          "text": [
            "하고싶은 말을 입력해주세요 : 안녕안녕\n"
          ]
        },
        {
          "output_type": "stream",
          "name": "stderr",
          "text": [
            "/usr/local/lib/python3.7/dist-packages/torch/utils/data/dataloader.py:481: UserWarning: This DataLoader will create 5 worker processes in total. Our suggested max number of worker in current system is 4, which is smaller than what this DataLoader is going to create. Please be aware that excessive worker creation might get DataLoader running slow or even freeze, lower the worker number to avoid potential slowness/freeze if necessary.\n",
            "  cpuset_checked))\n"
          ]
        },
        {
          "output_type": "stream",
          "name": "stdout",
          "text": [
            ">> 입력하신 내용에서 행복이 느껴집니다.\n",
            "\n",
            "\n",
            "하고싶은 말을 입력해주세요 : 좋아좋아\n",
            ">> 입력하신 내용에서 행복이 느껴집니다.\n",
            "\n",
            "\n",
            "하고싶은 말을 입력해주세요 : 아니 이건 아니잖아\n",
            ">> 입력하신 내용에서 놀람이 느껴집니다.\n",
            "\n",
            "\n"
          ]
        },
        {
          "output_type": "error",
          "ename": "KeyboardInterrupt",
          "evalue": "ignored",
          "traceback": [
            "\u001b[0;31m---------------------------------------------------------------------------\u001b[0m",
            "\u001b[0;31mKeyboardInterrupt\u001b[0m                         Traceback (most recent call last)",
            "\u001b[0;32m/usr/local/lib/python3.7/dist-packages/ipykernel/kernelbase.py\u001b[0m in \u001b[0;36m_input_request\u001b[0;34m(self, prompt, ident, parent, password)\u001b[0m\n\u001b[1;32m    728\u001b[0m             \u001b[0;32mtry\u001b[0m\u001b[0;34m:\u001b[0m\u001b[0;34m\u001b[0m\u001b[0;34m\u001b[0m\u001b[0m\n\u001b[0;32m--> 729\u001b[0;31m                 \u001b[0mident\u001b[0m\u001b[0;34m,\u001b[0m \u001b[0mreply\u001b[0m \u001b[0;34m=\u001b[0m \u001b[0mself\u001b[0m\u001b[0;34m.\u001b[0m\u001b[0msession\u001b[0m\u001b[0;34m.\u001b[0m\u001b[0mrecv\u001b[0m\u001b[0;34m(\u001b[0m\u001b[0mself\u001b[0m\u001b[0;34m.\u001b[0m\u001b[0mstdin_socket\u001b[0m\u001b[0;34m,\u001b[0m \u001b[0;36m0\u001b[0m\u001b[0;34m)\u001b[0m\u001b[0;34m\u001b[0m\u001b[0;34m\u001b[0m\u001b[0m\n\u001b[0m\u001b[1;32m    730\u001b[0m             \u001b[0;32mexcept\u001b[0m \u001b[0mException\u001b[0m\u001b[0;34m:\u001b[0m\u001b[0;34m\u001b[0m\u001b[0;34m\u001b[0m\u001b[0m\n",
            "\u001b[0;32m/usr/local/lib/python3.7/dist-packages/jupyter_client/session.py\u001b[0m in \u001b[0;36mrecv\u001b[0;34m(self, socket, mode, content, copy)\u001b[0m\n\u001b[1;32m    802\u001b[0m         \u001b[0;32mtry\u001b[0m\u001b[0;34m:\u001b[0m\u001b[0;34m\u001b[0m\u001b[0;34m\u001b[0m\u001b[0m\n\u001b[0;32m--> 803\u001b[0;31m             \u001b[0mmsg_list\u001b[0m \u001b[0;34m=\u001b[0m \u001b[0msocket\u001b[0m\u001b[0;34m.\u001b[0m\u001b[0mrecv_multipart\u001b[0m\u001b[0;34m(\u001b[0m\u001b[0mmode\u001b[0m\u001b[0;34m,\u001b[0m \u001b[0mcopy\u001b[0m\u001b[0;34m=\u001b[0m\u001b[0mcopy\u001b[0m\u001b[0;34m)\u001b[0m\u001b[0;34m\u001b[0m\u001b[0;34m\u001b[0m\u001b[0m\n\u001b[0m\u001b[1;32m    804\u001b[0m         \u001b[0;32mexcept\u001b[0m \u001b[0mzmq\u001b[0m\u001b[0;34m.\u001b[0m\u001b[0mZMQError\u001b[0m \u001b[0;32mas\u001b[0m \u001b[0me\u001b[0m\u001b[0;34m:\u001b[0m\u001b[0;34m\u001b[0m\u001b[0;34m\u001b[0m\u001b[0m\n",
            "\u001b[0;32m/usr/local/lib/python3.7/dist-packages/zmq/sugar/socket.py\u001b[0m in \u001b[0;36mrecv_multipart\u001b[0;34m(self, flags, copy, track)\u001b[0m\n\u001b[1;32m    624\u001b[0m         \"\"\"\n\u001b[0;32m--> 625\u001b[0;31m         \u001b[0mparts\u001b[0m \u001b[0;34m=\u001b[0m \u001b[0;34m[\u001b[0m\u001b[0mself\u001b[0m\u001b[0;34m.\u001b[0m\u001b[0mrecv\u001b[0m\u001b[0;34m(\u001b[0m\u001b[0mflags\u001b[0m\u001b[0;34m,\u001b[0m \u001b[0mcopy\u001b[0m\u001b[0;34m=\u001b[0m\u001b[0mcopy\u001b[0m\u001b[0;34m,\u001b[0m \u001b[0mtrack\u001b[0m\u001b[0;34m=\u001b[0m\u001b[0mtrack\u001b[0m\u001b[0;34m)\u001b[0m\u001b[0;34m]\u001b[0m\u001b[0;34m\u001b[0m\u001b[0;34m\u001b[0m\u001b[0m\n\u001b[0m\u001b[1;32m    626\u001b[0m         \u001b[0;31m# have first part already, only loop while more to receive\u001b[0m\u001b[0;34m\u001b[0m\u001b[0;34m\u001b[0m\u001b[0;34m\u001b[0m\u001b[0m\n",
            "\u001b[0;32mzmq/backend/cython/socket.pyx\u001b[0m in \u001b[0;36mzmq.backend.cython.socket.Socket.recv\u001b[0;34m()\u001b[0m\n",
            "\u001b[0;32mzmq/backend/cython/socket.pyx\u001b[0m in \u001b[0;36mzmq.backend.cython.socket.Socket.recv\u001b[0;34m()\u001b[0m\n",
            "\u001b[0;32mzmq/backend/cython/socket.pyx\u001b[0m in \u001b[0;36mzmq.backend.cython.socket._recv_copy\u001b[0;34m()\u001b[0m\n",
            "\u001b[0;32m/usr/local/lib/python3.7/dist-packages/zmq/backend/cython/checkrc.pxd\u001b[0m in \u001b[0;36mzmq.backend.cython.checkrc._check_rc\u001b[0;34m()\u001b[0m\n",
            "\u001b[0;31mKeyboardInterrupt\u001b[0m: ",
            "\nDuring handling of the above exception, another exception occurred:\n",
            "\u001b[0;31mKeyboardInterrupt\u001b[0m                         Traceback (most recent call last)",
            "\u001b[0;32m<ipython-input-77-ee87cb88ff09>\u001b[0m in \u001b[0;36m<module>\u001b[0;34m()\u001b[0m\n\u001b[1;32m      2\u001b[0m \u001b[0mend\u001b[0m \u001b[0;34m=\u001b[0m \u001b[0;36m1\u001b[0m\u001b[0;34m\u001b[0m\u001b[0;34m\u001b[0m\u001b[0m\n\u001b[1;32m      3\u001b[0m \u001b[0;32mwhile\u001b[0m \u001b[0mend\u001b[0m \u001b[0;34m==\u001b[0m \u001b[0;36m1\u001b[0m \u001b[0;34m:\u001b[0m\u001b[0;34m\u001b[0m\u001b[0;34m\u001b[0m\u001b[0m\n\u001b[0;32m----> 4\u001b[0;31m     \u001b[0msentence\u001b[0m \u001b[0;34m=\u001b[0m \u001b[0minput\u001b[0m\u001b[0;34m(\u001b[0m\u001b[0;34m\"하고싶은 말을 입력해주세요 : \"\u001b[0m\u001b[0;34m)\u001b[0m\u001b[0;34m\u001b[0m\u001b[0;34m\u001b[0m\u001b[0m\n\u001b[0m\u001b[1;32m      5\u001b[0m     \u001b[0;32mif\u001b[0m \u001b[0msentence\u001b[0m \u001b[0;34m==\u001b[0m \u001b[0;34m'종료'\u001b[0m \u001b[0;34m:\u001b[0m\u001b[0;34m\u001b[0m\u001b[0;34m\u001b[0m\u001b[0m\n\u001b[1;32m      6\u001b[0m         \u001b[0;32mbreak\u001b[0m\u001b[0;34m\u001b[0m\u001b[0;34m\u001b[0m\u001b[0m\n",
            "\u001b[0;32m/usr/local/lib/python3.7/dist-packages/ipykernel/kernelbase.py\u001b[0m in \u001b[0;36mraw_input\u001b[0;34m(self, prompt)\u001b[0m\n\u001b[1;32m    702\u001b[0m             \u001b[0mself\u001b[0m\u001b[0;34m.\u001b[0m\u001b[0m_parent_ident\u001b[0m\u001b[0;34m,\u001b[0m\u001b[0;34m\u001b[0m\u001b[0;34m\u001b[0m\u001b[0m\n\u001b[1;32m    703\u001b[0m             \u001b[0mself\u001b[0m\u001b[0;34m.\u001b[0m\u001b[0m_parent_header\u001b[0m\u001b[0;34m,\u001b[0m\u001b[0;34m\u001b[0m\u001b[0;34m\u001b[0m\u001b[0m\n\u001b[0;32m--> 704\u001b[0;31m             \u001b[0mpassword\u001b[0m\u001b[0;34m=\u001b[0m\u001b[0;32mFalse\u001b[0m\u001b[0;34m,\u001b[0m\u001b[0;34m\u001b[0m\u001b[0;34m\u001b[0m\u001b[0m\n\u001b[0m\u001b[1;32m    705\u001b[0m         )\n\u001b[1;32m    706\u001b[0m \u001b[0;34m\u001b[0m\u001b[0m\n",
            "\u001b[0;32m/usr/local/lib/python3.7/dist-packages/ipykernel/kernelbase.py\u001b[0m in \u001b[0;36m_input_request\u001b[0;34m(self, prompt, ident, parent, password)\u001b[0m\n\u001b[1;32m    732\u001b[0m             \u001b[0;32mexcept\u001b[0m \u001b[0mKeyboardInterrupt\u001b[0m\u001b[0;34m:\u001b[0m\u001b[0;34m\u001b[0m\u001b[0;34m\u001b[0m\u001b[0m\n\u001b[1;32m    733\u001b[0m                 \u001b[0;31m# re-raise KeyboardInterrupt, to truncate traceback\u001b[0m\u001b[0;34m\u001b[0m\u001b[0;34m\u001b[0m\u001b[0;34m\u001b[0m\u001b[0m\n\u001b[0;32m--> 734\u001b[0;31m                 \u001b[0;32mraise\u001b[0m \u001b[0mKeyboardInterrupt\u001b[0m\u001b[0;34m\u001b[0m\u001b[0;34m\u001b[0m\u001b[0m\n\u001b[0m\u001b[1;32m    735\u001b[0m             \u001b[0;32melse\u001b[0m\u001b[0;34m:\u001b[0m\u001b[0;34m\u001b[0m\u001b[0;34m\u001b[0m\u001b[0m\n\u001b[1;32m    736\u001b[0m                 \u001b[0;32mbreak\u001b[0m\u001b[0;34m\u001b[0m\u001b[0;34m\u001b[0m\u001b[0m\n",
            "\u001b[0;31mKeyboardInterrupt\u001b[0m: "
          ]
        }
      ]
    },
    {
      "cell_type": "markdown",
      "metadata": {
        "id": "MMdj7km9G0A_"
      },
      "source": [
        "![image.png](data:image/png;base64,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)"
      ]
    }
  ]
}